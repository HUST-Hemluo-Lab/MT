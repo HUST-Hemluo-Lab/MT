{
 "cells": [
  {
   "cell_type": "code",
   "execution_count": 1,
   "metadata": {},
   "outputs": [],
   "source": [
    "import os\n",
    "import matplotlib.pyplot as plt\n",
    "import numpy as np\n",
    "import pandas as pd\n",
    "from rdkit import RDLogger    \n",
    "RDLogger.DisableLog('rdApp.info')\n",
    "from rdkit import Chem\n",
    "from rdkit.Chem.Descriptors import MolWt,MolLogP,HeavyAtomCount\n",
    "from rdkit import RDConfig\n",
    "from rdkit.Chem import ChemicalFeatures\n",
    "from rdkit.Chem.Pharm2D.SigFactory import SigFactory\n",
    "from rdkit.Chem.Pharm2D import Generate\n",
    "from tqdm import tqdm\n",
    "from multiprocessing import Pool"
   ]
  },
  {
   "cell_type": "code",
   "execution_count": 2,
   "metadata": {},
   "outputs": [],
   "source": [
    "data_path = 'data/pubchem-10M.txt'\n",
    "df_ok_path = 'data/pubchem/pubchem_filter1.csv'"
   ]
  },
  {
   "cell_type": "code",
   "execution_count": 3,
   "metadata": {},
   "outputs": [],
   "source": [
    "smiles = pd.read_csv(data_path,sep='\\t',header=None)\n",
    "smiles.columns = ['smiles']"
   ]
  },
  {
   "cell_type": "code",
   "execution_count": 4,
   "metadata": {},
   "outputs": [],
   "source": [
    "def evaluate(smile):\n",
    "    mol = Chem.MolFromSmiles(smile)\n",
    "    if mol is None:\n",
    "        return [smile, \"INVALID\", -999, -999, -999]\n",
    "    desc_list = [MolWt(mol), MolLogP(mol),HeavyAtomCount(mol)]\n",
    "    return [smile , \"OK\"]+desc_list"
   ]
  },
  {
   "cell_type": "code",
   "execution_count": 5,
   "metadata": {},
   "outputs": [
    {
     "name": "stderr",
     "output_type": "stream",
     "text": [
      "100%|██████████| 9988594/9988594 [1:29:44<00:00, 1855.16it/s] \n"
     ]
    }
   ],
   "source": [
    "smiles_list = smiles['smiles'].to_list()\n",
    "res = list(tqdm(map(evaluate, smiles_list),total= len(smiles_list)))"
   ]
  },
  {
   "cell_type": "code",
   "execution_count": 6,
   "metadata": {},
   "outputs": [
    {
     "name": "stdout",
     "output_type": "stream",
     "text": [
      "num_mol_succeed: 9988594\n"
     ]
    }
   ],
   "source": [
    "#get molecule properties\n",
    "df = pd.DataFrame(res)\n",
    "df = df.iloc[:,:5]\n",
    "\n",
    "df.columns=[\"SMILES\", \"STATE\",\"MW\", \"LogP\",\"HeavyAtomCount\"]\n",
    "df=df[ ~ df['STATE'].str.contains('INVALID', na=False)] \n",
    "print(\"num_mol_succeed:\",len(df))"
   ]
  },
  {
   "cell_type": "code",
   "execution_count": 7,
   "metadata": {},
   "outputs": [
    {
     "name": "stdout",
     "output_type": "stream",
     "text": [
      "符合要求分子数： 8495825\n"
     ]
    }
   ],
   "source": [
    "#filter molecules\n",
    "df_ok = df[\n",
    "    df.MW.between(*[12, 600]) & # MW\n",
    "    df.LogP.between(*[-7, 5]) & #LogP\n",
    "    df.HeavyAtomCount.between(*[3, 50])\n",
    "    ]\n",
    "print(\"符合要求分子数：\" , len(df_ok))\n",
    "df_ok.head()\n",
    "df_ok.to_csv(df_ok_path,index= False,header=True)"
   ]
  },
  {
   "cell_type": "code",
   "execution_count": 3,
   "metadata": {},
   "outputs": [
    {
     "data": {
      "text/html": [
       "<div>\n",
       "<style scoped>\n",
       "    .dataframe tbody tr th:only-of-type {\n",
       "        vertical-align: middle;\n",
       "    }\n",
       "\n",
       "    .dataframe tbody tr th {\n",
       "        vertical-align: top;\n",
       "    }\n",
       "\n",
       "    .dataframe thead th {\n",
       "        text-align: right;\n",
       "    }\n",
       "</style>\n",
       "<table border=\"1\" class=\"dataframe\">\n",
       "  <thead>\n",
       "    <tr style=\"text-align: right;\">\n",
       "      <th></th>\n",
       "      <th>SMILES</th>\n",
       "      <th>STATE</th>\n",
       "      <th>MW</th>\n",
       "      <th>LogP</th>\n",
       "      <th>HeavyAtomCount</th>\n",
       "    </tr>\n",
       "  </thead>\n",
       "  <tbody>\n",
       "    <tr>\n",
       "      <th>0</th>\n",
       "      <td>CN(c1ccccc1)c1ccccc1C(=O)NCC1(O)CCOCC1</td>\n",
       "      <td>OK</td>\n",
       "      <td>340.423</td>\n",
       "      <td>2.72580</td>\n",
       "      <td>25</td>\n",
       "    </tr>\n",
       "    <tr>\n",
       "      <th>1</th>\n",
       "      <td>CC[NH+](CC)C1CCC([NH2+]C2CC2)(C(=O)[O-])C1</td>\n",
       "      <td>OK</td>\n",
       "      <td>241.355</td>\n",
       "      <td>-2.32190</td>\n",
       "      <td>17</td>\n",
       "    </tr>\n",
       "    <tr>\n",
       "      <th>2</th>\n",
       "      <td>COCC(CNC(=O)c1ccc2c(c1)NC(=O)C2)OC</td>\n",
       "      <td>OK</td>\n",
       "      <td>278.308</td>\n",
       "      <td>0.57240</td>\n",
       "      <td>20</td>\n",
       "    </tr>\n",
       "    <tr>\n",
       "      <th>3</th>\n",
       "      <td>OCCn1cc(CNc2cccc3c2CCCC3)nn1</td>\n",
       "      <td>OK</td>\n",
       "      <td>272.352</td>\n",
       "      <td>1.76130</td>\n",
       "      <td>20</td>\n",
       "    </tr>\n",
       "    <tr>\n",
       "      <th>4</th>\n",
       "      <td>O=C(NCc1ccc(F)cc1)N1CC=C(c2c[nH]c3ccccc23)CC1</td>\n",
       "      <td>OK</td>\n",
       "      <td>349.409</td>\n",
       "      <td>4.30590</td>\n",
       "      <td>26</td>\n",
       "    </tr>\n",
       "    <tr>\n",
       "      <th>...</th>\n",
       "      <td>...</td>\n",
       "      <td>...</td>\n",
       "      <td>...</td>\n",
       "      <td>...</td>\n",
       "      <td>...</td>\n",
       "    </tr>\n",
       "    <tr>\n",
       "      <th>8495820</th>\n",
       "      <td>CC(=O)C(C)Cc1ccc2c(c1)NC(=O)CO2</td>\n",
       "      <td>OK</td>\n",
       "      <td>233.267</td>\n",
       "      <td>1.78510</td>\n",
       "      <td>17</td>\n",
       "    </tr>\n",
       "    <tr>\n",
       "      <th>8495821</th>\n",
       "      <td>O=C(Cn1cc(C=C2NC(=O)N(Cc3ccccc3F)C2=O)c2ccccc2...</td>\n",
       "      <td>OK</td>\n",
       "      <td>468.488</td>\n",
       "      <td>4.51200</td>\n",
       "      <td>35</td>\n",
       "    </tr>\n",
       "    <tr>\n",
       "      <th>8495822</th>\n",
       "      <td>COc1cc(C(F)(F)F)cc(n2c(C)nc(C#Cc3ccnc(Cl)c3)c2...</td>\n",
       "      <td>OK</td>\n",
       "      <td>405.807</td>\n",
       "      <td>4.96474</td>\n",
       "      <td>28</td>\n",
       "    </tr>\n",
       "    <tr>\n",
       "      <th>8495823</th>\n",
       "      <td>O=C(NCc1ccccc1)N1CCC2(CC1)OCCc1c2[nH]c2ccccc12</td>\n",
       "      <td>OK</td>\n",
       "      <td>375.472</td>\n",
       "      <td>3.94150</td>\n",
       "      <td>28</td>\n",
       "    </tr>\n",
       "    <tr>\n",
       "      <th>8495824</th>\n",
       "      <td>CC(C)OC(=O)Cc1ccc(N)cn1</td>\n",
       "      <td>OK</td>\n",
       "      <td>194.234</td>\n",
       "      <td>1.15790</td>\n",
       "      <td>14</td>\n",
       "    </tr>\n",
       "  </tbody>\n",
       "</table>\n",
       "<p>8495825 rows × 5 columns</p>\n",
       "</div>"
      ],
      "text/plain": [
       "                                                    SMILES STATE       MW  \\\n",
       "0                   CN(c1ccccc1)c1ccccc1C(=O)NCC1(O)CCOCC1    OK  340.423   \n",
       "1               CC[NH+](CC)C1CCC([NH2+]C2CC2)(C(=O)[O-])C1    OK  241.355   \n",
       "2                       COCC(CNC(=O)c1ccc2c(c1)NC(=O)C2)OC    OK  278.308   \n",
       "3                             OCCn1cc(CNc2cccc3c2CCCC3)nn1    OK  272.352   \n",
       "4            O=C(NCc1ccc(F)cc1)N1CC=C(c2c[nH]c3ccccc23)CC1    OK  349.409   \n",
       "...                                                    ...   ...      ...   \n",
       "8495820                    CC(=O)C(C)Cc1ccc2c(c1)NC(=O)CO2    OK  233.267   \n",
       "8495821  O=C(Cn1cc(C=C2NC(=O)N(Cc3ccccc3F)C2=O)c2ccccc2...    OK  468.488   \n",
       "8495822  COc1cc(C(F)(F)F)cc(n2c(C)nc(C#Cc3ccnc(Cl)c3)c2...    OK  405.807   \n",
       "8495823     O=C(NCc1ccccc1)N1CCC2(CC1)OCCc1c2[nH]c2ccccc12    OK  375.472   \n",
       "8495824                            CC(C)OC(=O)Cc1ccc(N)cn1    OK  194.234   \n",
       "\n",
       "            LogP  HeavyAtomCount  \n",
       "0        2.72580              25  \n",
       "1       -2.32190              17  \n",
       "2        0.57240              20  \n",
       "3        1.76130              20  \n",
       "4        4.30590              26  \n",
       "...          ...             ...  \n",
       "8495820  1.78510              17  \n",
       "8495821  4.51200              35  \n",
       "8495822  4.96474              28  \n",
       "8495823  3.94150              28  \n",
       "8495824  1.15790              14  \n",
       "\n",
       "[8495825 rows x 5 columns]"
      ]
     },
     "execution_count": 3,
     "metadata": {},
     "output_type": "execute_result"
    }
   ],
   "source": [
    "df_ok = pd.read_csv(df_ok_path)\n",
    "df_ok"
   ]
  },
  {
   "cell_type": "code",
   "execution_count": 4,
   "metadata": {},
   "outputs": [
    {
     "data": {
      "text/plain": [
       "849583"
      ]
     },
     "execution_count": 4,
     "metadata": {},
     "output_type": "execute_result"
    }
   ],
   "source": [
    "smiles = df_ok\n",
    "len(smiles)\n",
    "data_split= np.array_split(smiles, 10)\n",
    "len(data_split[0])"
   ]
  },
  {
   "cell_type": "code",
   "execution_count": null,
   "metadata": {},
   "outputs": [
    {
     "data": {
      "text/plain": [
       "2988"
      ]
     },
     "metadata": {},
     "output_type": "display_data"
    }
   ],
   "source": [
    "#2D pharmacophore fingerprint\n",
    "def getfp(smile):\n",
    "    mol = Chem.MolFromSmiles(smile)\n",
    "    try:\n",
    "        fp = Generate.Gen2DFingerprint(mol,sigFactory)\n",
    "    except IndexError:\n",
    "        pass\n",
    "    else:\n",
    "        fp_list = list(fp.GetOnBits())\n",
    "        if fp_list ==[]:\n",
    "            pass\n",
    "        else:\n",
    "        #fp_list=fp_list.astype(int)\n",
    "            return [smile] + fp_list\n",
    "\n",
    "fdefName = os.path.join(RDConfig.RDDataDir,'BaseFeatures.fdef')\n",
    "featFactory = ChemicalFeatures.BuildFeatureFactory(fdefName)\n",
    "sigFactory = SigFactory(featFactory,minPointCount=2,maxPointCount=3)\n",
    "sigFactory.SetBins([(0,2),(2,5),(5,8)])\n",
    "sigFactory.Init()\n",
    "sigFactory.GetSigSize()"
   ]
  },
  {
   "cell_type": "code",
   "execution_count": null,
   "metadata": {},
   "outputs": [
    {
     "name": "stderr",
     "output_type": "stream",
     "text": [
      "0 监视进度:: 100%|██████████| 849583/849583 [1:06:26<00:00, 213.12it/s]\n",
      "1 监视进度:: 100%|██████████| 849583/849583 [1:06:26<00:00, 213.09it/s]\n",
      "2 监视进度::  39%|███▉      | 334654/849583 [26:07<46:22, 185.03it/s]  "
     ]
    }
   ],
   "source": [
    "#save the molecules with 2D pharmacophore fingerprint\n",
    "for i in range(10):\n",
    "    mols = data_split[i]['SMILES'].values.tolist()\n",
    "    fp = list(tqdm(map(getfp,mols),total=len(data_split[i]), desc='%d 监视进度:' %(i,)))\n",
    "\n",
    "    fp_filter_None = []\n",
    "    for item in fp:\n",
    "        if item != None :\n",
    "            fp_filter_None.append(item)\n",
    "\n",
    "    with open('fp_list_1_%d.txt' %i,'w') as f:\n",
    "        for i in fp_filter_None:\n",
    "            for j in i:\n",
    "                f.write(str(j))\n",
    "                f.write(' ')\n",
    "            f.write('\\n')\n",
    "        f.close()"
   ]
  },
  {
   "cell_type": "code",
   "execution_count": null,
   "metadata": {},
   "outputs": [
    {
     "name": "stderr",
     "output_type": "stream",
     "text": [
      "进度： 0: 100%|██████████| 700800/700800 [00:04<00:00, 145756.26it/s]\n",
      "进度： 1: 100%|██████████| 700682/700682 [00:04<00:00, 149527.70it/s]\n",
      "进度： 2: 100%|██████████| 701006/701006 [00:06<00:00, 113806.18it/s]\n",
      "进度： 3: 100%|██████████| 700999/700999 [00:07<00:00, 93174.06it/s] \n",
      "进度： 4: 100%|██████████| 701072/701072 [00:43<00:00, 16205.68it/s] \n",
      "进度： 5: 100%|██████████| 700529/700529 [02:00<00:00, 5801.52it/s]  \n",
      "进度： 6: 100%|██████████| 701666/701666 [03:57<00:00, 2950.21it/s]  \n",
      "进度： 7: 100%|██████████| 700331/700331 [00:04<00:00, 143180.70it/s]\n",
      "进度： 8: 100%|██████████| 700276/700276 [06:12<00:00, 1880.47it/s]  \n",
      "进度： 9: 100%|██████████| 700724/700724 [00:04<00:00, 168621.91it/s]\n"
     ]
    }
   ],
   "source": [
    "# read the molecules\n",
    "fp=[]\n",
    "for i in range(10):\n",
    "    file=open('fp_list_1_%d.txt' %i, mode='r',encoding='UTF-8')\n",
    "    contents = file.readlines()\n",
    "    for msg in tqdm(contents,desc='进度： %s' %i):\n",
    "        msg = msg.strip('\\n')\n",
    "        adm = msg.split(' ')\n",
    "        fp.append(adm)\n",
    "    file.close()"
   ]
  },
  {
   "cell_type": "markdown",
   "metadata": {},
   "source": [
    "2D pharmacophore fingerprint"
   ]
  },
  {
   "cell_type": "code",
   "execution_count": null,
   "metadata": {},
   "outputs": [],
   "source": [
    "def split(sm):\n",
    "    '''\n",
    "    function: Split SMILES into words. Care for Cl, Br, Si, Se, Na etc.\n",
    "    input: A SMILES\n",
    "    output: A string with space between words\n",
    "    '''\n",
    "    arr = []\n",
    "    i = 0\n",
    "    while i < len(sm)-1:\n",
    "        if not sm[i] in ['%', 'C', 'B', 'S', 'N', 'R', 'X', 'L', 'A', 'M', \\\n",
    "                        'T', 'Z', 's', 't', 'H', '+', '-', 'K', 'F']:\n",
    "            arr.append(sm[i])\n",
    "            i += 1\n",
    "        elif sm[i]=='%':\n",
    "            arr.append(sm[i:i+3])\n",
    "            i += 3\n",
    "        elif sm[i]=='C' and sm[i+1]=='l':\n",
    "            arr.append(sm[i:i+2])\n",
    "            i += 2\n",
    "        elif sm[i]=='C' and sm[i+1]=='a':\n",
    "            arr.append(sm[i:i+2])\n",
    "            i += 2\n",
    "        elif sm[i]=='C' and sm[i+1]=='u':\n",
    "            arr.append(sm[i:i+2])\n",
    "            i += 2\n",
    "        elif sm[i]=='B' and sm[i+1]=='r':\n",
    "            arr.append(sm[i:i+2])\n",
    "            i += 2\n",
    "        elif sm[i]=='B' and sm[i+1]=='e':\n",
    "            arr.append(sm[i:i+2])\n",
    "            i += 2\n",
    "        elif sm[i]=='B' and sm[i+1]=='a':\n",
    "            arr.append(sm[i:i+2])\n",
    "            i += 2\n",
    "        elif sm[i]=='B' and sm[i+1]=='i':\n",
    "            arr.append(sm[i:i+2])\n",
    "            i += 2\n",
    "        elif sm[i]=='S' and sm[i+1]=='i':\n",
    "            arr.append(sm[i:i+2])\n",
    "            i += 2\n",
    "        elif sm[i]=='S' and sm[i+1]=='e':\n",
    "            arr.append(sm[i:i+2])\n",
    "            i += 2\n",
    "        elif sm[i]=='S' and sm[i+1]=='r':\n",
    "            arr.append(sm[i:i+2])\n",
    "            i += 2\n",
    "        elif sm[i]=='N' and sm[i+1]=='a':\n",
    "            arr.append(sm[i:i+2])\n",
    "            i += 2\n",
    "        elif sm[i]=='N' and sm[i+1]=='i':\n",
    "            arr.append(sm[i:i+2])\n",
    "            i += 2\n",
    "        elif sm[i]=='R' and sm[i+1]=='b':\n",
    "            arr.append(sm[i:i+2])\n",
    "            i += 2\n",
    "        elif sm[i]=='R' and sm[i+1]=='a':\n",
    "            arr.append(sm[i:i+2])\n",
    "            i += 2\n",
    "        elif sm[i]=='X' and sm[i+1]=='e':\n",
    "            arr.append(sm[i:i+2])\n",
    "            i += 2\n",
    "        elif sm[i]=='L' and sm[i+1]=='i':\n",
    "            arr.append(sm[i:i+2])\n",
    "            i += 2\n",
    "        elif sm[i]=='A' and sm[i+1]=='l':\n",
    "            arr.append(sm[i:i+2])\n",
    "            i += 2\n",
    "        elif sm[i]=='A' and sm[i+1]=='s':\n",
    "            arr.append(sm[i:i+2])\n",
    "            i += 2\n",
    "        elif sm[i]=='A' and sm[i+1]=='g':\n",
    "            arr.append(sm[i:i+2])\n",
    "            i += 2\n",
    "        elif sm[i]=='A' and sm[i+1]=='u':\n",
    "            arr.append(sm[i:i+2])\n",
    "            i += 2\n",
    "        elif sm[i]=='M' and sm[i+1]=='g':\n",
    "            arr.append(sm[i:i+2])\n",
    "            i += 2\n",
    "        elif sm[i]=='M' and sm[i+1]=='n':\n",
    "            arr.append(sm[i:i+2])\n",
    "            i += 2\n",
    "        elif sm[i]=='T' and sm[i+1]=='e':\n",
    "            arr.append(sm[i:i+2])\n",
    "            i += 2\n",
    "        elif sm[i]=='Z' and sm[i+1]=='n':\n",
    "            arr.append(sm[i:i+2])\n",
    "            i += 2\n",
    "        elif sm[i]=='s' and sm[i+1]=='i':\n",
    "            arr.append(sm[i:i+2])\n",
    "            i += 2\n",
    "        elif sm[i]=='s' and sm[i+1]=='e':\n",
    "            arr.append(sm[i:i+2])\n",
    "            i += 2\n",
    "        elif sm[i]=='t' and sm[i+1]=='e':\n",
    "            arr.append(sm[i:i+2])\n",
    "            i += 2\n",
    "        elif sm[i]=='H' and sm[i+1]=='e':\n",
    "            arr.append(sm[i:i+2])\n",
    "            i += 2\n",
    "        elif sm[i]=='+' and sm[i+1]=='2':\n",
    "            arr.append(sm[i:i+2])\n",
    "            i += 2\n",
    "        elif sm[i]=='+' and sm[i+1]=='3':\n",
    "            arr.append(sm[i:i+2])\n",
    "            i += 2\n",
    "        elif sm[i]=='+' and sm[i+1]=='4':\n",
    "            arr.append(sm[i:i+2])\n",
    "            i += 2\n",
    "        elif sm[i]=='-' and sm[i+1]=='2':\n",
    "            arr.append(sm[i:i+2])\n",
    "            i += 2\n",
    "        elif sm[i]=='-' and sm[i+1]=='3':\n",
    "            arr.append(sm[i:i+2])\n",
    "            i += 2\n",
    "        elif sm[i]=='-' and sm[i+1]=='4':\n",
    "            arr.append(sm[i:i+2])\n",
    "            i += 2\n",
    "        elif sm[i]=='K' and sm[i+1]=='r':\n",
    "            arr.append(sm[i:i+2])\n",
    "            i += 2\n",
    "        elif sm[i]=='F' and sm[i+1]=='e':\n",
    "            arr.append(sm[i:i+2])\n",
    "            i += 2\n",
    "        else:\n",
    "            arr.append(sm[i])\n",
    "            i += 1\n",
    "    if i == len(sm)-1:\n",
    "        arr.append(sm[i])\n",
    "    return ' '.join(arr) "
   ]
  },
  {
   "cell_type": "code",
   "execution_count": null,
   "metadata": {},
   "outputs": [
    {
     "name": "stderr",
     "output_type": "stream",
     "text": [
      "100%|██████████| 7008085/7008085 [06:19<00:00, 18448.21it/s]\n"
     ]
    },
    {
     "name": "stdout",
     "output_type": "stream",
     "text": [
      "Built pharm & smi corpus file!\n"
     ]
    }
   ],
   "source": [
    "pharm_corpus_path = 'data/pubchem/pharm_corpus1.txt'\n",
    "smi_corpus_path = 'data/pubchem/smi_corpus1.txt'\n",
    "smi_pharm_filepath = 'data/pubchem/smi_pharm_corpus1.txt'\n",
    "#from utils import split\n",
    "with open(pharm_corpus_path, 'w') as f1, open(smi_corpus_path, 'w') as f2:\n",
    "    for i in tqdm(range(len(fp))):\n",
    "        if fp[i] is None:\n",
    "            pass\n",
    "        else:\n",
    "            sm = fp[i][0]\n",
    "            word = str(fp[i][1:])\n",
    "            word  = word.replace(\"'\", \"\")\n",
    "            word  = word.replace(\",\", \"\")\n",
    "            word  = word.replace(\"[\", \"\")\n",
    "            word  = word.replace(\"]\", \"\")\n",
    "        #word\n",
    "            f1.write(word + '\\n')\n",
    "            f2.write(split(sm) +'\\n')\n",
    "print('Built pharm & smi corpus file!')"
   ]
  },
  {
   "cell_type": "markdown",
   "metadata": {},
   "source": [
    "InChI"
   ]
  },
  {
   "cell_type": "code",
   "execution_count": null,
   "metadata": {},
   "outputs": [],
   "source": [
    "def get_inchi(smile):\n",
    "    mol = Chem.MolFromSmiles(smile)\n",
    "    inchi = Chem.MolToInchi(mol)\n",
    "    return smile +' ' + inchi"
   ]
  },
  {
   "cell_type": "code",
   "execution_count": null,
   "metadata": {},
   "outputs": [
    {
     "name": "stderr",
     "output_type": "stream",
     "text": [
      "进度： 0: 100%|██████████| 700800/700800 [00:02<00:00, 299875.01it/s]\n",
      "进度： 1: 100%|██████████| 700682/700682 [00:02<00:00, 314870.35it/s]\n",
      "进度： 2: 100%|██████████| 701006/701006 [00:02<00:00, 321122.57it/s]\n",
      "进度： 3: 100%|██████████| 700999/700999 [00:02<00:00, 327897.92it/s]\n",
      "进度： 4: 100%|██████████| 701072/701072 [00:02<00:00, 328174.16it/s]\n",
      "进度： 5: 100%|██████████| 700529/700529 [00:02<00:00, 332551.92it/s]\n",
      "进度： 6: 100%|██████████| 701666/701666 [00:02<00:00, 328758.11it/s]\n",
      "进度： 7: 100%|██████████| 700331/700331 [00:02<00:00, 328092.88it/s]\n",
      "进度： 8: 100%|██████████| 700276/700276 [00:02<00:00, 322529.97it/s]\n",
      "进度： 9: 100%|██████████| 700724/700724 [00:02<00:00, 326977.33it/s]\n"
     ]
    }
   ],
   "source": [
    "from tqdm import tqdm\n",
    "fp=[]\n",
    "with open ('smiles.txt' ,'w')as f:\n",
    "    for i in range(10):\n",
    "        file=open('data/pubchem/fp_list_1/fp_list_1_%d.txt' %i, mode='r',encoding='UTF-8')\n",
    "        contents = file.readlines()   \n",
    "        for msg in tqdm(contents,desc='进度： %s' %i):\n",
    "            msg = msg.strip('\\n')\n",
    "            adm = msg.split(' ')\n",
    "            fp.append(adm[0])\n",
    "            f.write(adm[0]+'\\n')\n",
    "        file.close()"
   ]
  },
  {
   "cell_type": "code",
   "execution_count": 5,
   "metadata": {},
   "outputs": [
    {
     "name": "stderr",
     "output_type": "stream",
     "text": [
      "%d 监视进度:: 100%|██████████| 7008085/7008085 [45:59<00:00, 2539.28it/s]\n"
     ]
    }
   ],
   "source": [
    "inchi = list(tqdm(map(get_inchi,fp),total=len(fp), desc='%d 监视进度:' ))\n",
    "inchi_filter_None = []\n",
    "for item in inchi:\n",
    "    if item != None :\n",
    "        inchi_filter_None.append(item)\n",
    "\n",
    "with open('inchi_list.txt','w') as f:\n",
    "    for i in inchi_filter_None:\n",
    "        f.write(i)\n",
    "        f.write('\\n')\n",
    "    f.close()"
   ]
  },
  {
   "cell_type": "code",
   "execution_count": 2,
   "metadata": {},
   "outputs": [
    {
     "data": {
      "text/html": [
       "<div>\n",
       "<style scoped>\n",
       "    .dataframe tbody tr th:only-of-type {\n",
       "        vertical-align: middle;\n",
       "    }\n",
       "\n",
       "    .dataframe tbody tr th {\n",
       "        vertical-align: top;\n",
       "    }\n",
       "\n",
       "    .dataframe thead th {\n",
       "        text-align: right;\n",
       "    }\n",
       "</style>\n",
       "<table border=\"1\" class=\"dataframe\">\n",
       "  <thead>\n",
       "    <tr style=\"text-align: right;\">\n",
       "      <th></th>\n",
       "      <th>0</th>\n",
       "      <th>1</th>\n",
       "    </tr>\n",
       "  </thead>\n",
       "  <tbody>\n",
       "    <tr>\n",
       "      <th>0</th>\n",
       "      <td>CN(c1ccccc1)c1ccccc1C(=O)NCC1(O)CCOCC1</td>\n",
       "      <td>InChI=1S/C20H24N2O3/c1-22(16-7-3-2-4-8-16)18-1...</td>\n",
       "    </tr>\n",
       "    <tr>\n",
       "      <th>1</th>\n",
       "      <td>CC[NH+](CC)C1CCC([NH2+]C2CC2)(C(=O)[O-])C1</td>\n",
       "      <td>InChI=1S/C13H24N2O2/c1-3-15(4-2)11-7-8-13(9-11...</td>\n",
       "    </tr>\n",
       "    <tr>\n",
       "      <th>2</th>\n",
       "      <td>COCC(CNC(=O)c1ccc2c(c1)NC(=O)C2)OC</td>\n",
       "      <td>InChI=1S/C14H18N2O4/c1-19-8-11(20-2)7-15-14(18...</td>\n",
       "    </tr>\n",
       "    <tr>\n",
       "      <th>3</th>\n",
       "      <td>OCCn1cc(CNc2cccc3c2CCCC3)nn1</td>\n",
       "      <td>InChI=1S/C15H20N4O/c20-9-8-19-11-13(17-18-19)1...</td>\n",
       "    </tr>\n",
       "    <tr>\n",
       "      <th>4</th>\n",
       "      <td>O=C(NCc1ccc(F)cc1)N1CC=C(c2c[nH]c3ccccc23)CC1</td>\n",
       "      <td>InChI=1S/C21H20FN3O/c22-17-7-5-15(6-8-17)13-24...</td>\n",
       "    </tr>\n",
       "    <tr>\n",
       "      <th>...</th>\n",
       "      <td>...</td>\n",
       "      <td>...</td>\n",
       "    </tr>\n",
       "    <tr>\n",
       "      <th>7008080</th>\n",
       "      <td>Cc1cc(C(=O)NCC([NH3+])C2CC2)ccc1n1cncn1</td>\n",
       "      <td>InChI=1S/C15H19N5O/c1-10-6-12(4-5-14(10)20-9-1...</td>\n",
       "    </tr>\n",
       "    <tr>\n",
       "      <th>7008081</th>\n",
       "      <td>CCCn1ncc(NC(CC)CC)c(Cl)c1=O</td>\n",
       "      <td>InChI=1S/C12H20ClN3O/c1-4-7-16-12(17)11(13)10(...</td>\n",
       "    </tr>\n",
       "    <tr>\n",
       "      <th>7008082</th>\n",
       "      <td>O=C(Cn1cc(C=C2NC(=O)N(Cc3ccccc3F)C2=O)c2ccccc2...</td>\n",
       "      <td>InChI=1S/C27H21FN4O3/c28-22-12-6-4-8-18(22)16-...</td>\n",
       "    </tr>\n",
       "    <tr>\n",
       "      <th>7008083</th>\n",
       "      <td>COc1cc(C(F)(F)F)cc(n2c(C)nc(C#Cc3ccnc(Cl)c3)c2...</td>\n",
       "      <td>InChI=1S/C20H15ClF3N3O/c1-12-18(5-4-14-6-7-25-...</td>\n",
       "    </tr>\n",
       "    <tr>\n",
       "      <th>7008084</th>\n",
       "      <td>O=C(NCc1ccccc1)N1CCC2(CC1)OCCc1c2[nH]c2ccccc12</td>\n",
       "      <td>InChI=1S/C23H25N3O2/c27-22(24-16-17-6-2-1-3-7-...</td>\n",
       "    </tr>\n",
       "  </tbody>\n",
       "</table>\n",
       "<p>7008085 rows × 2 columns</p>\n",
       "</div>"
      ],
      "text/plain": [
       "                                                         0  \\\n",
       "0                   CN(c1ccccc1)c1ccccc1C(=O)NCC1(O)CCOCC1   \n",
       "1               CC[NH+](CC)C1CCC([NH2+]C2CC2)(C(=O)[O-])C1   \n",
       "2                       COCC(CNC(=O)c1ccc2c(c1)NC(=O)C2)OC   \n",
       "3                             OCCn1cc(CNc2cccc3c2CCCC3)nn1   \n",
       "4            O=C(NCc1ccc(F)cc1)N1CC=C(c2c[nH]c3ccccc23)CC1   \n",
       "...                                                    ...   \n",
       "7008080            Cc1cc(C(=O)NCC([NH3+])C2CC2)ccc1n1cncn1   \n",
       "7008081                        CCCn1ncc(NC(CC)CC)c(Cl)c1=O   \n",
       "7008082  O=C(Cn1cc(C=C2NC(=O)N(Cc3ccccc3F)C2=O)c2ccccc2...   \n",
       "7008083  COc1cc(C(F)(F)F)cc(n2c(C)nc(C#Cc3ccnc(Cl)c3)c2...   \n",
       "7008084     O=C(NCc1ccccc1)N1CCC2(CC1)OCCc1c2[nH]c2ccccc12   \n",
       "\n",
       "                                                         1  \n",
       "0        InChI=1S/C20H24N2O3/c1-22(16-7-3-2-4-8-16)18-1...  \n",
       "1        InChI=1S/C13H24N2O2/c1-3-15(4-2)11-7-8-13(9-11...  \n",
       "2        InChI=1S/C14H18N2O4/c1-19-8-11(20-2)7-15-14(18...  \n",
       "3        InChI=1S/C15H20N4O/c20-9-8-19-11-13(17-18-19)1...  \n",
       "4        InChI=1S/C21H20FN3O/c22-17-7-5-15(6-8-17)13-24...  \n",
       "...                                                    ...  \n",
       "7008080  InChI=1S/C15H19N5O/c1-10-6-12(4-5-14(10)20-9-1...  \n",
       "7008081  InChI=1S/C12H20ClN3O/c1-4-7-16-12(17)11(13)10(...  \n",
       "7008082  InChI=1S/C27H21FN4O3/c28-22-12-6-4-8-18(22)16-...  \n",
       "7008083  InChI=1S/C20H15ClF3N3O/c1-12-18(5-4-14-6-7-25-...  \n",
       "7008084  InChI=1S/C23H25N3O2/c27-22(24-16-17-6-2-1-3-7-...  \n",
       "\n",
       "[7008085 rows x 2 columns]"
      ]
     },
     "execution_count": 2,
     "metadata": {},
     "output_type": "execute_result"
    }
   ],
   "source": [
    "inchi_df = pd.read_csv('inchi_list.txt', sep=' ', header = None)\n",
    "inchi_df"
   ]
  },
  {
   "cell_type": "code",
   "execution_count": 12,
   "metadata": {},
   "outputs": [],
   "source": [
    "def split_inchi(inchi):\n",
    "    '''\n",
    "    function: Split inchi into words. Care for Cl, Br, Si, Se, Na etc.\n",
    "    input: A inchi\n",
    "    output: A string with space between words\n",
    "    '''\n",
    "    arr = []\n",
    "    i = 0\n",
    "    while i < len(inchi)-1:\n",
    "        if not inchi[i] in ['%', 'C', 'B', 'S', 'N', 'R', 'X', 'L', 'A', 'M', \\\n",
    "                        'T', 'Z', 's', 't', 'H', '+', 'K', 'F','I','1','2','3','4']:\n",
    "            arr.append(inchi[i])\n",
    "            i += 1\n",
    "        elif inchi[i]=='%':\n",
    "            arr.append(inchi[i:i+3])\n",
    "            i += 3\n",
    "        elif inchi[i]=='C' and inchi[i+1]=='l':\n",
    "            arr.append(inchi[i:i+2])\n",
    "            i += 2\n",
    "        elif inchi[i]=='C' and inchi[i+1]=='a':\n",
    "            arr.append(inchi[i:i+2])\n",
    "            i += 2\n",
    "        elif inchi[i]=='C' and inchi[i+1]=='u':\n",
    "            arr.append(inchi[i:i+2])\n",
    "            i += 2\n",
    "        elif inchi[i]=='B' and inchi[i+1]=='r':\n",
    "            arr.append(inchi[i:i+2])\n",
    "            i += 2\n",
    "        elif inchi[i]=='B' and inchi[i+1]=='e':\n",
    "            arr.append(inchi[i:i+2])\n",
    "            i += 2\n",
    "        elif inchi[i]=='B' and inchi[i+1]=='a':\n",
    "            arr.append(inchi[i:i+2])\n",
    "            i += 2\n",
    "        elif inchi[i]=='B' and inchi[i+1]=='i':\n",
    "            arr.append(inchi[i:i+2])\n",
    "            i += 2\n",
    "        elif inchi[i]=='S' and inchi[i+1]=='i':\n",
    "            arr.append(inchi[i:i+2])\n",
    "            i += 2\n",
    "        elif inchi[i]=='S' and inchi[i+1]=='e':\n",
    "            arr.append(inchi[i:i+2])\n",
    "            i += 2\n",
    "        elif inchi[i]=='S' and inchi[i+1]=='r':\n",
    "            arr.append(inchi[i:i+2])\n",
    "            i += 2\n",
    "        elif inchi[i]=='N' and inchi[i+1]=='a':\n",
    "            arr.append(inchi[i:i+2])\n",
    "            i += 2\n",
    "        elif inchi[i]=='N' and inchi[i+1]=='i':\n",
    "            arr.append(inchi[i:i+2])\n",
    "            i += 2\n",
    "        elif inchi[i]=='R' and inchi[i+1]=='b':\n",
    "            arr.append(inchi[i:i+2])\n",
    "            i += 2\n",
    "        elif inchi[i]=='R' and inchi[i+1]=='a':\n",
    "            arr.append(inchi[i:i+2])\n",
    "            i += 2\n",
    "        elif inchi[i]=='X' and inchi[i+1]=='e':\n",
    "            arr.append(inchi[i:i+2])\n",
    "            i += 2\n",
    "        elif inchi[i]=='L' and inchi[i+1]=='i':\n",
    "            arr.append(inchi[i:i+2])\n",
    "            i += 2\n",
    "        elif inchi[i]=='A' and inchi[i+1]=='l':\n",
    "            arr.append(inchi[i:i+2])\n",
    "            i += 2\n",
    "        elif inchi[i]=='A' and inchi[i+1]=='s':\n",
    "            arr.append(inchi[i:i+2])\n",
    "            i += 2\n",
    "        elif inchi[i]=='A' and inchi[i+1]=='g':\n",
    "            arr.append(inchi[i:i+2])\n",
    "            i += 2\n",
    "        elif inchi[i]=='A' and inchi[i+1]=='u':\n",
    "            arr.append(inchi[i:i+2])\n",
    "            i += 2\n",
    "        elif inchi[i]=='M' and inchi[i+1]=='g':\n",
    "            arr.append(inchi[i:i+2])\n",
    "            i += 2\n",
    "        elif inchi[i]=='M' and inchi[i+1]=='n':\n",
    "            arr.append(inchi[i:i+2])\n",
    "            i += 2\n",
    "        elif inchi[i]=='T' and inchi[i+1]=='e':\n",
    "            arr.append(inchi[i:i+2])\n",
    "            i += 2\n",
    "        elif inchi[i]=='Z' and inchi[i+1]=='n':\n",
    "            arr.append(inchi[i:i+2])\n",
    "            i += 2\n",
    "        elif inchi[i]=='s' and inchi[i+1]=='i':\n",
    "            arr.append(inchi[i:i+2])\n",
    "            i += 2\n",
    "        elif inchi[i]=='s' and inchi[i+1]=='e':\n",
    "            arr.append(inchi[i:i+2])\n",
    "            i += 2\n",
    "        elif inchi[i]=='t' and inchi[i+1]=='e':\n",
    "            arr.append(inchi[i:i+2])\n",
    "            i += 2\n",
    "        elif inchi[i]=='H' and inchi[i+1]=='e':\n",
    "            arr.append(inchi[i:i+2])\n",
    "            i += 2\n",
    "        elif inchi[i]=='+' and inchi[i+1]=='2':\n",
    "            arr.append(inchi[i:i+2])\n",
    "            i += 2\n",
    "        elif inchi[i]=='+' and inchi[i+1]=='3':\n",
    "            arr.append(inchi[i:i+2])\n",
    "            i += 2\n",
    "        elif inchi[i]=='+' and inchi[i+1]=='4':\n",
    "            arr.append(inchi[i:i+2])\n",
    "            i += 2\n",
    "        elif inchi[i]=='K' and inchi[i+1]=='r':\n",
    "            arr.append(inchi[i:i+2])\n",
    "            i += 2\n",
    "        elif inchi[i]=='F' and inchi[i+1]=='e':\n",
    "            arr.append(inchi[i:i+2])\n",
    "            i += 2\n",
    "        elif inchi[i]=='I' and inchi[i+1]=='n' and inchi[i+2]=='C':\n",
    "            arr.append(inchi[i:i+9])\n",
    "            i += 9\n",
    "        elif inchi[i]=='1' and (inchi[i+1]=='0'or inchi[i+1]=='1' or inchi[i+1]=='2' or inchi[i+1]=='3'or inchi[i+1]=='4'or inchi[i+1]=='5'or inchi[i+1]=='6'or inchi[i+1]=='7'or inchi[i+1]=='8'or inchi[i+1]=='9'):\n",
    "            arr.append(inchi[i:i+2])\n",
    "            i += 2   \n",
    "        elif inchi[i]=='2' and (inchi[i+1]=='0'or inchi[i+1]=='1' or inchi[i+1]=='2' or inchi[i+1]=='3'or inchi[i+1]=='4'or inchi[i+1]=='5'or inchi[i+1]=='6'or inchi[i+1]=='7'or inchi[i+1]=='8'or inchi[i+1]=='9'):\n",
    "            arr.append(inchi[i:i+2])\n",
    "            i += 2   \n",
    "        elif inchi[i]=='3' and (inchi[i+1]=='0'or inchi[i+1]=='1' or inchi[i+1]=='2' or inchi[i+1]=='3'or inchi[i+1]=='4'or inchi[i+1]=='5'or inchi[i+1]=='6'or inchi[i+1]=='7'or inchi[i+1]=='8'or inchi[i+1]=='9'):\n",
    "            arr.append(inchi[i:i+2])\n",
    "            i += 2 \n",
    "        elif inchi[i]=='4' and (inchi[i+1]=='0'or inchi[i+1]=='1' or inchi[i+1]=='2' or inchi[i+1]=='3'or inchi[i+1]=='4'or inchi[i+1]=='5'or inchi[i+1]=='6'or inchi[i+1]=='7'or inchi[i+1]=='8'or inchi[i+1]=='9'):\n",
    "            arr.append(inchi[i:i+2])\n",
    "            i += 2 \n",
    "        else: \n",
    "            arr.append(inchi[i])\n",
    "            i += 1\n",
    "    if i == len(inchi)-1:\n",
    "        arr.append(inchi[i])\n",
    "    return ' '.join(arr) "
   ]
  },
  {
   "cell_type": "code",
   "execution_count": 17,
   "metadata": {},
   "outputs": [
    {
     "name": "stderr",
     "output_type": "stream",
     "text": [
      "100%|██████████| 7008085/7008085 [00:09<00:00, 753110.71it/s] \n"
     ]
    }
   ],
   "source": [
    "inchi = []\n",
    "with open('inchi_list.txt','r') as file:\n",
    "    contents = file.readlines()\n",
    "    for msg in tqdm(contents):\n",
    "        msg = msg.strip('\\n')\n",
    "        adm = msg.split(' ')\n",
    "        inchi.append(adm)\n"
   ]
  },
  {
   "cell_type": "code",
   "execution_count": null,
   "metadata": {},
   "outputs": [
    {
     "name": "stderr",
     "output_type": "stream",
     "text": [
      "100%|██████████| 7008085/7008085 [15:40<00:00, 7452.84it/s]"
     ]
    },
    {
     "name": "stdout",
     "output_type": "stream",
     "text": [
      "Built inchi & smi corpus file!\n"
     ]
    },
    {
     "name": "stderr",
     "output_type": "stream",
     "text": [
      "\n"
     ]
    }
   ],
   "source": [
    "inchi_corpus_path = 'data/pubchem/inchi_corpus1.txt'\n",
    "smi_corpus_path = 'data/pubchem/smi_corpus2.txt'\n",
    "smi_inchi_filepath = 'data/pubchem/smi_inchi_corpus1.txt'\n",
    "#from utils import split\n",
    "with open(inchi_corpus_path, 'w') as f1, open(smi_corpus_path, 'w') as f2:\n",
    "    for i in tqdm(range(len(inchi))):\n",
    "        if inchi[i] is None:\n",
    "            pass\n",
    "        else:\n",
    "            sm = inchi[i][0]\n",
    "            word = inchi[i][1]\n",
    "            # word  = word.replace(\"'\", \"\")\n",
    "            # word  = word.replace(\",\", \"\")\n",
    "            # word  = word.replace(\"[\", \"\")\n",
    "            # word  = word.replace(\"]\", \"\")\n",
    "        #word\n",
    "            f1.write(split_inchi(word) + '\\n')\n",
    "            f2.write(split(sm) +'\\n')\n",
    "print('Built inchi & smi corpus file!')"
   ]
  },
  {
   "cell_type": "markdown",
   "metadata": {},
   "source": [
    "PubChem"
   ]
  },
  {
   "cell_type": "code",
   "execution_count": null,
   "metadata": {},
   "outputs": [
    {
     "name": "stderr",
     "output_type": "stream",
     "text": [
      "RDKit WARNING: [18:30:21] Enabling RDKit 2019.09.3 jupyter extensions\n",
      "[18:30:21] Enabling RDKit 2019.09.3 jupyter extensions\n"
     ]
    }
   ],
   "source": [
    "from pubchemfp import GetPubChemFPs\n",
    "import numpy as np\n",
    "from rdkit import Chem\n",
    "from tqdm import tqdm"
   ]
  },
  {
   "cell_type": "code",
   "execution_count": null,
   "metadata": {},
   "outputs": [],
   "source": [
    "def GetPubChemFpBits(smiles):\n",
    "    mol = Chem.MolFromSmiles(smiles)\n",
    "    mol2 = Chem.AddHs(mol)\n",
    "    try:\n",
    "        result = GetPubChemFPs(mol2)\n",
    "    except:\n",
    "        pass\n",
    "    else:\n",
    "        bit = []\n",
    "        for i in range(881):\n",
    "            if result[i] == True:\n",
    "                bit.append(i)\n",
    "        return [smiles] + bit"
   ]
  },
  {
   "cell_type": "code",
   "execution_count": null,
   "metadata": {},
   "outputs": [
    {
     "name": "stderr",
     "output_type": "stream",
     "text": [
      "进度： 0: 100%|██████████| 700800/700800 [00:02<00:00, 336358.61it/s]\n",
      "进度： 1: 100%|██████████| 700682/700682 [00:02<00:00, 321683.42it/s]\n",
      "进度： 2: 100%|██████████| 701006/701006 [00:02<00:00, 341673.25it/s]\n",
      "进度： 3: 100%|██████████| 700999/700999 [00:02<00:00, 331333.40it/s]\n",
      "进度： 4: 100%|██████████| 701072/701072 [00:02<00:00, 344526.32it/s]\n",
      "进度： 5: 100%|██████████| 700529/700529 [00:02<00:00, 333365.28it/s]\n",
      "进度： 6: 100%|██████████| 701666/701666 [00:02<00:00, 341385.47it/s]\n",
      "进度： 7: 100%|██████████| 700331/700331 [00:02<00:00, 340691.68it/s]\n",
      "进度： 8: 100%|██████████| 700276/700276 [00:02<00:00, 338551.56it/s]\n",
      "进度： 9: 100%|██████████| 700724/700724 [00:02<00:00, 338742.61it/s]\n"
     ]
    }
   ],
   "source": [
    "\n",
    "fp=[]\n",
    "with open ('smiles.txt' ,'w')as f:\n",
    "    for i in range(10):\n",
    "        file=open('data/pubchem/fp_list_1/fp_list_1_%d.txt' %i, mode='r',encoding='UTF-8')\n",
    "        contents = file.readlines()   \n",
    "        for msg in tqdm(contents,desc='进度： %s' %i):\n",
    "            msg = msg.strip('\\n')\n",
    "            adm = msg.split(' ')\n",
    "            fp.append(adm[0])\n",
    "            f.write(adm[0]+'\\n')\n",
    "        file.close()"
   ]
  },
  {
   "cell_type": "code",
   "execution_count": null,
   "metadata": {},
   "outputs": [
    {
     "data": {
      "text/plain": [
       "700809"
      ]
     },
     "metadata": {},
     "output_type": "display_data"
    }
   ],
   "source": [
    "smiles = fp\n",
    "len(smiles)\n",
    "data_split= np.array_split(smiles, 10)\n",
    "len(data_split[0])"
   ]
  },
  {
   "cell_type": "code",
   "execution_count": null,
   "metadata": {},
   "outputs": [
    {
     "name": "stderr",
     "output_type": "stream",
     "text": [
      "0 监视进度:: 100%|██████████| 700809/700809 [1:09:52<00:00, 167.15it/s]\n",
      "1 监视进度:: 100%|██████████| 700809/700809 [1:10:05<00:00, 166.66it/s]\n",
      "2 监视进度:: 100%|██████████| 700809/700809 [1:09:02<00:00, 169.16it/s]\n",
      "3 监视进度:: 100%|██████████| 700809/700809 [1:07:58<00:00, 171.84it/s]\n",
      "4 监视进度::  37%|███▋      | 259332/700809 [25:12<42:48, 171.87it/s]  "
     ]
    }
   ],
   "source": [
    "for i in range(10):\n",
    "    mols = data_split[i].tolist()\n",
    "    fp = list(tqdm(map(GetPubChemFpBits,mols),total=len(data_split[i]), desc='%d 监视进度:' %(i,)))\n",
    "\n",
    "    fp_filter_None = []\n",
    "    for item in fp:\n",
    "        if item != None :\n",
    "            fp_filter_None.append(item)\n",
    "\n",
    "    with open('pubfp/fp_list_%d.txt' %i,'w') as f:\n",
    "        for i in fp_filter_None:\n",
    "            for j in i:\n",
    "                f.write(str(j))\n",
    "                f.write(' ')\n",
    "            f.write('\\n')\n",
    "        f.close()"
   ]
  },
  {
   "cell_type": "code",
   "execution_count": null,
   "metadata": {},
   "outputs": [
    {
     "name": "stderr",
     "output_type": "stream",
     "text": [
      "进度： 0: 100%|██████████| 700809/700809 [00:07<00:00, 95878.39it/s] \n",
      "进度： 1: 100%|██████████| 700809/700809 [00:24<00:00, 28257.70it/s] \n",
      "进度： 2: 100%|██████████| 700809/700809 [01:08<00:00, 10250.12it/s] \n",
      "进度： 3: 100%|██████████| 700809/700809 [02:16<00:00, 5120.08it/s]  \n",
      "进度： 4: 100%|██████████| 700809/700809 [03:45<00:00, 3112.25it/s]  \n",
      "进度： 5: 100%|██████████| 700808/700808 [06:25<00:00, 1815.85it/s] \n",
      "进度： 6: 100%|██████████| 700808/700808 [09:21<00:00, 1247.57it/s]  \n",
      "进度： 7: 100%|██████████| 700808/700808 [00:09<00:00, 76758.33it/s] \n",
      "进度： 8: 100%|██████████| 700808/700808 [15:38<00:00, 746.41it/s]   \n",
      "进度： 9: 100%|██████████| 700808/700808 [00:10<00:00, 67696.48it/s] \n"
     ]
    }
   ],
   "source": [
    "pub_fp=[]\n",
    "for i in range(10):\n",
    "    file=open('pubfp/fp_list_%d.txt' %i, mode='r',encoding='UTF-8')\n",
    "    contents = file.readlines()\n",
    "    for msg in tqdm(contents,desc='进度： %s' %i):\n",
    "        msg = msg.strip('\\n')\n",
    "        adm = msg.split(' ')\n",
    "        pub_fp.append(adm)\n",
    "    file.close()"
   ]
  },
  {
   "cell_type": "code",
   "execution_count": null,
   "metadata": {},
   "outputs": [
    {
     "name": "stderr",
     "output_type": "stream",
     "text": [
      "100%|██████████| 7008085/7008085 [11:50<00:00, 9865.77it/s] "
     ]
    },
    {
     "name": "stdout",
     "output_type": "stream",
     "text": [
      "Built pharm & smi corpus file!\n"
     ]
    },
    {
     "name": "stderr",
     "output_type": "stream",
     "text": [
      "\n"
     ]
    }
   ],
   "source": [
    "pubchem_corpus_path = 'data/pubchem/pubchemfp_corpus1.txt'\n",
    "smi_corpus_path = 'data/pubchem/smi_corpus3.txt'\n",
    "smi_pubchem_filepath = 'data/pubchem/smi_pubchemfp_corpus1.txt'\n",
    "#from utils import split\n",
    "with open(pubchem_corpus_path, 'w') as f1, open(smi_corpus_path, 'w') as f2:\n",
    "    for i in tqdm(range(len(pub_fp))):\n",
    "        if pub_fp[i] is None:\n",
    "            pass\n",
    "        else:\n",
    "            sm = pub_fp[i][0]\n",
    "            word = str(pub_fp[i][1:])\n",
    "            word  = word.replace(\"'\", \"\")\n",
    "            word  = word.replace(\",\", \"\")\n",
    "            word  = word.replace(\"[\", \"\")\n",
    "            word  = word.replace(\"]\", \"\")\n",
    "        #word\n",
    "            f1.write(word + '\\n')\n",
    "            f2.write(split(sm) +'\\n')\n",
    "print('Built pharm & smi corpus file!')"
   ]
  },
  {
   "cell_type": "markdown",
   "metadata": {},
   "source": [
    "Build smi_pharm_inchi_pubchem_corpus"
   ]
  },
  {
   "cell_type": "code",
   "execution_count": null,
   "metadata": {},
   "outputs": [
    {
     "name": "stderr",
     "output_type": "stream",
     "text": [
      "7008085it [00:04, 1528573.34it/s]\n",
      "7008085it [00:15, 438007.71it/s]\n",
      "7008085it [00:09, 712091.74it/s]\n",
      "7008085it [00:07, 910260.66it/s]\n"
     ]
    },
    {
     "name": "stdout",
     "output_type": "stream",
     "text": [
      "Built smi_pharm_inchi translation corpus file!\n"
     ]
    }
   ],
   "source": [
    "pharm_corpus_path = 'data/pubchem/pharm_corpus1.txt'\n",
    "smi_corpus_path = 'data/pubchem/smi_corpus1.txt'\n",
    "smi_pharm_filepath = 'data/pubchem/smi_pharm_inchi_pubchem_corpus2.txt'\n",
    "inchi_corpus_path = 'data/pubchem/inchi_corpus2.txt'\n",
    "pubchem_corpus_path = 'data/pubchem/pubchemfp_corpus1.txt'\n",
    "\n",
    "s = []\n",
    "f = open(smi_corpus_path,'r')\n",
    "for line in tqdm(f):\n",
    "    line = line.strip('\\n')\n",
    "    s.append(line)\n",
    "f.close()\n",
    "\n",
    "pubfp = []\n",
    "f = open(pubchem_corpus_path,'r')\n",
    "for line in tqdm(f):\n",
    "    line = line.strip('\\n')\n",
    "    pubfp.append(line)\n",
    "f.close()\n",
    "\n",
    "fp = []\n",
    "f = open(pharm_corpus_path,'r')\n",
    "for line in tqdm(f):\n",
    "    line = line.strip('\\n')\n",
    "    fp.append(line)\n",
    "f.close()\n",
    "\n",
    "inchi = []\n",
    "f = open(inchi_corpus_path,'r')\n",
    "for line in tqdm(f):\n",
    "    line = line.strip('\\n')\n",
    "    inchi.append(line)\n",
    "f.close()\n",
    "\n",
    "dfs = pd.DataFrame(s)\n",
    "dffp = pd.DataFrame(fp)\n",
    "dfinchi = pd.DataFrame(inchi)\n",
    "dfpub = pd.DataFrame(pubfp)\n",
    "\n",
    "data = pd.concat([dfs, dffp,dfinchi,dfpub],axis=1,ignore_index=True)\n",
    "data.columns = ['smiles','pharmfp','inchi','pubchemfp']\n",
    "data.to_csv(smi_pharm_filepath,index=False,sep='\\t',header=False)\n",
    "print('Built smi_pharm_inchi translation corpus file!')"
   ]
  },
  {
   "cell_type": "code",
   "execution_count": 8,
   "metadata": {},
   "outputs": [
    {
     "name": "stdout",
     "output_type": "stream",
     "text": [
      "Building Vocab\n",
      "VOCAB SIZE: 2260\n",
      "Vocab build done! \n",
      "Building Vocab\n",
      "VOCAB SIZE: 87\n",
      "Vocab build done! \n"
     ]
    }
   ],
   "source": [
    "import BuildVocab\n",
    "\n",
    "pharm_vocab_path = 'data/pubchem/pharm_vocab1.pkl'\n",
    "smi_vocab_path = 'data/pubchem/smi_vocab1.pkl'\n",
    "\n",
    "BuildVocab.built_vocab(pharm_corpus_path,pharm_vocab_path)\n",
    "BuildVocab.built_vocab(smi_corpus_path,smi_vocab_path)"
   ]
  },
  {
   "cell_type": "code",
   "execution_count": 2,
   "metadata": {},
   "outputs": [
    {
     "name": "stdout",
     "output_type": "stream",
     "text": [
      "Building Vocab\n",
      "VOCAB SIZE: 124\n",
      "Vocab build done! \n"
     ]
    }
   ],
   "source": [
    "inchi_vocab_path = 'data/pubchem/inchi_vocab1.pkl'\n",
    "inchi_corpus_path = 'data/pubchem/inchi_corpus1.txt'\n",
    "BuildVocab.built_vocab(inchi_corpus_path,inchi_vocab_path)"
   ]
  },
  {
   "cell_type": "code",
   "execution_count": null,
   "metadata": {},
   "outputs": [
    {
     "name": "stdout",
     "output_type": "stream",
     "text": [
      "Building Vocab\n"
     ]
    }
   ],
   "source": [
    "\n",
    "pubfp_vocab_path = 'data/pubchem/pubfp_vocab1.pkl'\n",
    "pubfp_corpus_path = 'data/pubchem/pubchemfp_corpus1.txt'\n",
    "BuildVocab.built_vocab(pubfp_corpus_path,pubfp_vocab_path)"
   ]
  },
  {
   "cell_type": "code",
   "execution_count": null,
   "metadata": {},
   "outputs": [
    {
     "data": {
      "text/plain": [
       "842"
      ]
     },
     "metadata": {},
     "output_type": "display_data"
    }
   ],
   "source": [
    "from BuildVocab import WordVocab \n",
    "pubfp_vocab_path = 'data/pubchem/pubfp_vocab1.pkl'\n",
    "src_vocab = WordVocab.load_vocab(pubfp_vocab_path)\n",
    "len(src_vocab)"
   ]
  }
 ],
 "metadata": {
  "interpreter": {
   "hash": "6e4f82a4a9a4ffcbda112757cab709a84353494b78f1f6692c9c348cffce14ae"
  },
  "kernelspec": {
   "display_name": "Python 3.8.12 ('pytorch-rdkit')",
   "language": "python",
   "name": "python3"
  },
  "language_info": {
   "codemirror_mode": {
    "name": "ipython",
    "version": 3
   },
   "file_extension": ".py",
   "mimetype": "text/x-python",
   "name": "python",
   "nbconvert_exporter": "python",
   "pygments_lexer": "ipython3",
   "version": "3.8.12"
  },
  "orig_nbformat": 4
 },
 "nbformat": 4,
 "nbformat_minor": 2
}
