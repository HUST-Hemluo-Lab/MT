{
 "cells": [
  {
   "cell_type": "code",
   "execution_count": 35,
   "metadata": {},
   "outputs": [],
   "source": [
    "import os\n",
    "import matplotlib.pyplot as plt\n",
    "import numpy as np\n",
    "import pandas as pd\n",
    "from rdkit import RDLogger    \n",
    "RDLogger.DisableLog('rdApp.info')\n",
    "from rdkit import Chem\n",
    "from rdkit.Chem.Descriptors import MolWt,MolLogP,HeavyAtomCount\n",
    "from rdkit import RDConfig\n",
    "from rdkit.Chem import ChemicalFeatures\n",
    "from rdkit.Chem.Pharm2D.SigFactory import SigFactory\n",
    "from rdkit.Chem.Pharm2D import Generate\n",
    "from tqdm import tqdm\n",
    "from multiprocessing import Pool"
   ]
  },
  {
   "cell_type": "code",
   "execution_count": 36,
   "metadata": {},
   "outputs": [],
   "source": [
    "data_path = 'data/pubchem-1000.txt'\n",
    "df_ok_path = 'data/pubchem_filter1.csv'"
   ]
  },
  {
   "cell_type": "code",
   "execution_count": 37,
   "metadata": {},
   "outputs": [],
   "source": [
    "smiles = pd.read_csv(data_path,sep='\\t',header=None)\n",
    "smiles.columns = ['smiles']"
   ]
  },
  {
   "cell_type": "code",
   "execution_count": 38,
   "metadata": {},
   "outputs": [],
   "source": [
    "def evaluate(smile):\n",
    "    mol = Chem.MolFromSmiles(smile)\n",
    "    if mol is None:\n",
    "        return [smile, \"INVALID\", -999, -999, -999]\n",
    "    desc_list = [MolWt(mol), MolLogP(mol),HeavyAtomCount(mol)]\n",
    "    return [smile , \"OK\"]+desc_list"
   ]
  },
  {
   "cell_type": "code",
   "execution_count": 39,
   "metadata": {},
   "outputs": [
    {
     "name": "stderr",
     "output_type": "stream",
     "text": [
      "  0%|          | 0/1000 [00:00<?, ?it/s]"
     ]
    },
    {
     "name": "stderr",
     "output_type": "stream",
     "text": [
      "100%|██████████| 1000/1000 [00:00<00:00, 1819.74it/s]\n"
     ]
    }
   ],
   "source": [
    "smiles_list = smiles['smiles'].to_list()\n",
    "res = list(tqdm(map(evaluate, smiles_list),total= len(smiles_list)))"
   ]
  },
  {
   "cell_type": "code",
   "execution_count": 40,
   "metadata": {},
   "outputs": [
    {
     "name": "stdout",
     "output_type": "stream",
     "text": [
      "num_mol_succeed: 1000\n"
     ]
    }
   ],
   "source": [
    "#get molecule properties\n",
    "df = pd.DataFrame(res)\n",
    "df = df.iloc[:,:5]\n",
    "\n",
    "df.columns=[\"SMILES\", \"STATE\",\"MW\", \"LogP\",\"HeavyAtomCount\"]\n",
    "df=df[ ~ df['STATE'].str.contains('INVALID', na=False)] \n",
    "print(\"num_mol_succeed:\",len(df))"
   ]
  },
  {
   "cell_type": "code",
   "execution_count": 41,
   "metadata": {},
   "outputs": [
    {
     "name": "stdout",
     "output_type": "stream",
     "text": [
      "符合要求分子数： 854\n"
     ]
    }
   ],
   "source": [
    "#filter molecules\n",
    "df_ok = df[\n",
    "    df.MW.between(*[12, 600]) & # MW\n",
    "    df.LogP.between(*[-7, 5]) & #LogP\n",
    "    df.HeavyAtomCount.between(*[3, 50])\n",
    "    ]\n",
    "print(\"符合要求分子数：\" , len(df_ok))\n",
    "df_ok.head()\n",
    "df_ok.to_csv(df_ok_path,index= False,header=True)"
   ]
  },
  {
   "cell_type": "code",
   "execution_count": 42,
   "metadata": {},
   "outputs": [
    {
     "data": {
      "text/html": [
       "<div>\n",
       "<style scoped>\n",
       "    .dataframe tbody tr th:only-of-type {\n",
       "        vertical-align: middle;\n",
       "    }\n",
       "\n",
       "    .dataframe tbody tr th {\n",
       "        vertical-align: top;\n",
       "    }\n",
       "\n",
       "    .dataframe thead th {\n",
       "        text-align: right;\n",
       "    }\n",
       "</style>\n",
       "<table border=\"1\" class=\"dataframe\">\n",
       "  <thead>\n",
       "    <tr style=\"text-align: right;\">\n",
       "      <th></th>\n",
       "      <th>SMILES</th>\n",
       "      <th>STATE</th>\n",
       "      <th>MW</th>\n",
       "      <th>LogP</th>\n",
       "      <th>HeavyAtomCount</th>\n",
       "    </tr>\n",
       "  </thead>\n",
       "  <tbody>\n",
       "    <tr>\n",
       "      <th>0</th>\n",
       "      <td>CN(c1ccccc1)c1ccccc1C(=O)NCC1(O)CCOCC1</td>\n",
       "      <td>OK</td>\n",
       "      <td>340.423</td>\n",
       "      <td>2.72580</td>\n",
       "      <td>25</td>\n",
       "    </tr>\n",
       "    <tr>\n",
       "      <th>1</th>\n",
       "      <td>CC[NH+](CC)C1CCC([NH2+]C2CC2)(C(=O)[O-])C1</td>\n",
       "      <td>OK</td>\n",
       "      <td>241.355</td>\n",
       "      <td>-2.32190</td>\n",
       "      <td>17</td>\n",
       "    </tr>\n",
       "    <tr>\n",
       "      <th>2</th>\n",
       "      <td>COCC(CNC(=O)c1ccc2c(c1)NC(=O)C2)OC</td>\n",
       "      <td>OK</td>\n",
       "      <td>278.308</td>\n",
       "      <td>0.57240</td>\n",
       "      <td>20</td>\n",
       "    </tr>\n",
       "    <tr>\n",
       "      <th>3</th>\n",
       "      <td>OCCn1cc(CNc2cccc3c2CCCC3)nn1</td>\n",
       "      <td>OK</td>\n",
       "      <td>272.352</td>\n",
       "      <td>1.76130</td>\n",
       "      <td>20</td>\n",
       "    </tr>\n",
       "    <tr>\n",
       "      <th>4</th>\n",
       "      <td>O=C(NCc1ccc(F)cc1)N1CC=C(c2c[nH]c3ccccc23)CC1</td>\n",
       "      <td>OK</td>\n",
       "      <td>349.409</td>\n",
       "      <td>4.30590</td>\n",
       "      <td>26</td>\n",
       "    </tr>\n",
       "    <tr>\n",
       "      <th>...</th>\n",
       "      <td>...</td>\n",
       "      <td>...</td>\n",
       "      <td>...</td>\n",
       "      <td>...</td>\n",
       "      <td>...</td>\n",
       "    </tr>\n",
       "    <tr>\n",
       "      <th>849</th>\n",
       "      <td>Cc1ncnc(NCCOc2ccccc2Cl)c1C</td>\n",
       "      <td>OK</td>\n",
       "      <td>277.755</td>\n",
       "      <td>3.23774</td>\n",
       "      <td>19</td>\n",
       "    </tr>\n",
       "    <tr>\n",
       "      <th>850</th>\n",
       "      <td>[NH3+]C(CSc1ncccn1)c1ccc(F)c(F)c1</td>\n",
       "      <td>OK</td>\n",
       "      <td>268.312</td>\n",
       "      <td>1.83010</td>\n",
       "      <td>18</td>\n",
       "    </tr>\n",
       "    <tr>\n",
       "      <th>851</th>\n",
       "      <td>CC(C)Oc1cccc2[nH]cc(C(=O)C3CCCCC3)c12</td>\n",
       "      <td>OK</td>\n",
       "      <td>285.387</td>\n",
       "      <td>4.71810</td>\n",
       "      <td>21</td>\n",
       "    </tr>\n",
       "    <tr>\n",
       "      <th>852</th>\n",
       "      <td>COc1cccc2c1C([NH3+])(C(=O)[O-])CC(C)(C)O2</td>\n",
       "      <td>OK</td>\n",
       "      <td>251.282</td>\n",
       "      <td>-0.55660</td>\n",
       "      <td>18</td>\n",
       "    </tr>\n",
       "    <tr>\n",
       "      <th>853</th>\n",
       "      <td>CN(Cc1ccsc1)C(=O)C1(C(F)(F)F)CCNC1</td>\n",
       "      <td>OK</td>\n",
       "      <td>292.326</td>\n",
       "      <td>2.24850</td>\n",
       "      <td>19</td>\n",
       "    </tr>\n",
       "  </tbody>\n",
       "</table>\n",
       "<p>854 rows × 5 columns</p>\n",
       "</div>"
      ],
      "text/plain": [
       "                                            SMILES STATE       MW     LogP  \\\n",
       "0           CN(c1ccccc1)c1ccccc1C(=O)NCC1(O)CCOCC1    OK  340.423  2.72580   \n",
       "1       CC[NH+](CC)C1CCC([NH2+]C2CC2)(C(=O)[O-])C1    OK  241.355 -2.32190   \n",
       "2               COCC(CNC(=O)c1ccc2c(c1)NC(=O)C2)OC    OK  278.308  0.57240   \n",
       "3                     OCCn1cc(CNc2cccc3c2CCCC3)nn1    OK  272.352  1.76130   \n",
       "4    O=C(NCc1ccc(F)cc1)N1CC=C(c2c[nH]c3ccccc23)CC1    OK  349.409  4.30590   \n",
       "..                                             ...   ...      ...      ...   \n",
       "849                     Cc1ncnc(NCCOc2ccccc2Cl)c1C    OK  277.755  3.23774   \n",
       "850              [NH3+]C(CSc1ncccn1)c1ccc(F)c(F)c1    OK  268.312  1.83010   \n",
       "851          CC(C)Oc1cccc2[nH]cc(C(=O)C3CCCCC3)c12    OK  285.387  4.71810   \n",
       "852      COc1cccc2c1C([NH3+])(C(=O)[O-])CC(C)(C)O2    OK  251.282 -0.55660   \n",
       "853             CN(Cc1ccsc1)C(=O)C1(C(F)(F)F)CCNC1    OK  292.326  2.24850   \n",
       "\n",
       "     HeavyAtomCount  \n",
       "0                25  \n",
       "1                17  \n",
       "2                20  \n",
       "3                20  \n",
       "4                26  \n",
       "..              ...  \n",
       "849              19  \n",
       "850              18  \n",
       "851              21  \n",
       "852              18  \n",
       "853              19  \n",
       "\n",
       "[854 rows x 5 columns]"
      ]
     },
     "execution_count": 42,
     "metadata": {},
     "output_type": "execute_result"
    }
   ],
   "source": [
    "df_ok = pd.read_csv(df_ok_path)\n",
    "df_ok"
   ]
  },
  {
   "cell_type": "code",
   "execution_count": 43,
   "metadata": {},
   "outputs": [
    {
     "data": {
      "text/plain": [
       "86"
      ]
     },
     "execution_count": 43,
     "metadata": {},
     "output_type": "execute_result"
    }
   ],
   "source": [
    "smiles = df_ok\n",
    "len(smiles)\n",
    "data_split= np.array_split(smiles, 10)\n",
    "len(data_split[0])"
   ]
  },
  {
   "cell_type": "code",
   "execution_count": 44,
   "metadata": {},
   "outputs": [
    {
     "data": {
      "text/plain": [
       "2988"
      ]
     },
     "execution_count": 44,
     "metadata": {},
     "output_type": "execute_result"
    }
   ],
   "source": [
    "#2D pharmacophore fingerprint\n",
    "def getfp(smile):\n",
    "    mol = Chem.MolFromSmiles(smile)\n",
    "    try:\n",
    "        fp = Generate.Gen2DFingerprint(mol,sigFactory)\n",
    "    except IndexError:\n",
    "        pass\n",
    "    else:\n",
    "        fp_list = list(fp.GetOnBits())\n",
    "        if fp_list ==[]:\n",
    "            pass\n",
    "        else:\n",
    "        #fp_list=fp_list.astype(int)\n",
    "            return [smile] + fp_list\n",
    "\n",
    "fdefName = os.path.join(RDConfig.RDDataDir,'BaseFeatures.fdef')\n",
    "featFactory = ChemicalFeatures.BuildFeatureFactory(fdefName)\n",
    "sigFactory = SigFactory(featFactory,minPointCount=2,maxPointCount=3)\n",
    "sigFactory.SetBins([(0,2),(2,5),(5,8)])\n",
    "sigFactory.Init()\n",
    "sigFactory.GetSigSize()"
   ]
  },
  {
   "cell_type": "code",
   "execution_count": 45,
   "metadata": {},
   "outputs": [
    {
     "name": "stderr",
     "output_type": "stream",
     "text": [
      "0 监视进度:: 100%|██████████| 86/86 [00:00<00:00, 251.92it/s]\n",
      "1 监视进度:: 100%|██████████| 86/86 [00:00<00:00, 218.86it/s]\n",
      "2 监视进度:: 100%|██████████| 86/86 [00:00<00:00, 224.56it/s]\n",
      "3 监视进度:: 100%|██████████| 86/86 [00:00<00:00, 221.67it/s]\n",
      "4 监视进度:: 100%|██████████| 85/85 [00:00<00:00, 217.97it/s]\n",
      "5 监视进度:: 100%|██████████| 85/85 [00:00<00:00, 240.62it/s]\n",
      "6 监视进度:: 100%|██████████| 85/85 [00:00<00:00, 217.25it/s]\n",
      "7 监视进度:: 100%|██████████| 85/85 [00:00<00:00, 216.18it/s]\n",
      "8 监视进度:: 100%|██████████| 85/85 [00:00<00:00, 215.51it/s]\n",
      "9 监视进度:: 100%|██████████| 85/85 [00:00<00:00, 224.28it/s]\n"
     ]
    }
   ],
   "source": [
    "#save the molecules with 2D pharmacophore fingerprint\n",
    "for i in range(10):\n",
    "    mols = data_split[i]['SMILES'].values.tolist()\n",
    "    fp = list(tqdm(map(getfp,mols),total=len(data_split[i]), desc='%d 监视进度:' %(i,)))\n",
    "\n",
    "    fp_filter_None = []\n",
    "    for item in fp:\n",
    "        if item != None :\n",
    "            fp_filter_None.append(item)\n",
    "\n",
    "    pharm_dir = 'data/pharm/'\n",
    "    if not os.path.isdir(pharm_dir ):\n",
    "                    os.makedirs(pharm_dir )\n",
    "\n",
    "    with open('data/pharm/2d_pharm_fp_list_1_%d.txt' %i,'w') as f:\n",
    "        for i in fp_filter_None:\n",
    "            for j in i:\n",
    "                f.write(str(j))\n",
    "                f.write(' ')\n",
    "            f.write('\\n')\n",
    "        f.close()"
   ]
  },
  {
   "cell_type": "code",
   "execution_count": 46,
   "metadata": {},
   "outputs": [
    {
     "name": "stderr",
     "output_type": "stream",
     "text": [
      "进度： 0: 100%|██████████| 69/69 [00:00<00:00, 69319.04it/s]\n",
      "进度： 1: 100%|██████████| 72/72 [00:00<?, ?it/s]\n",
      "进度： 2: 100%|██████████| 72/72 [00:00<00:00, 72160.07it/s]\n",
      "进度： 3: 100%|██████████| 72/72 [00:00<00:00, 72177.32it/s]\n",
      "进度： 4: 100%|██████████| 73/73 [00:00<?, ?it/s]\n",
      "进度： 5: 100%|██████████| 71/71 [00:00<?, ?it/s]\n",
      "进度： 6: 100%|██████████| 66/66 [00:00<?, ?it/s]\n",
      "进度： 7: 100%|██████████| 65/65 [00:00<00:00, 32576.15it/s]\n",
      "进度： 8: 100%|██████████| 73/73 [00:00<?, ?it/s]\n",
      "进度： 9: 100%|██████████| 73/73 [00:00<00:00, 73179.78it/s]\n"
     ]
    }
   ],
   "source": [
    "# read the molecules\n",
    "fp=[]\n",
    "for i in range(10):\n",
    "    file=open('data/pharm/2d_pharm_fp_list_1_%d.txt' %i, mode='r',encoding='UTF-8')\n",
    "    contents = file.readlines()\n",
    "    for msg in tqdm(contents,desc='进度： %s' %i):\n",
    "        msg = msg.strip('\\n')\n",
    "        adm = msg.split(' ')\n",
    "        fp.append(adm)\n",
    "    file.close()"
   ]
  },
  {
   "cell_type": "markdown",
   "metadata": {},
   "source": [
    "2D pharmacophore fingerprint"
   ]
  },
  {
   "cell_type": "code",
   "execution_count": 47,
   "metadata": {},
   "outputs": [],
   "source": [
    "def split(sm):\n",
    "    '''\n",
    "    function: Split SMILES into words. Care for Cl, Br, Si, Se, Na etc.\n",
    "    input: A SMILES\n",
    "    output: A string with space between words\n",
    "    '''\n",
    "    arr = []\n",
    "    i = 0\n",
    "    while i < len(sm)-1:\n",
    "        if not sm[i] in ['%', 'C', 'B', 'S', 'N', 'R', 'X', 'L', 'A', 'M', \\\n",
    "                        'T', 'Z', 's', 't', 'H', '+', '-', 'K', 'F']:\n",
    "            arr.append(sm[i])\n",
    "            i += 1\n",
    "        elif sm[i]=='%':\n",
    "            arr.append(sm[i:i+3])\n",
    "            i += 3\n",
    "        elif sm[i]=='C' and sm[i+1]=='l':\n",
    "            arr.append(sm[i:i+2])\n",
    "            i += 2\n",
    "        elif sm[i]=='C' and sm[i+1]=='a':\n",
    "            arr.append(sm[i:i+2])\n",
    "            i += 2\n",
    "        elif sm[i]=='C' and sm[i+1]=='u':\n",
    "            arr.append(sm[i:i+2])\n",
    "            i += 2\n",
    "        elif sm[i]=='B' and sm[i+1]=='r':\n",
    "            arr.append(sm[i:i+2])\n",
    "            i += 2\n",
    "        elif sm[i]=='B' and sm[i+1]=='e':\n",
    "            arr.append(sm[i:i+2])\n",
    "            i += 2\n",
    "        elif sm[i]=='B' and sm[i+1]=='a':\n",
    "            arr.append(sm[i:i+2])\n",
    "            i += 2\n",
    "        elif sm[i]=='B' and sm[i+1]=='i':\n",
    "            arr.append(sm[i:i+2])\n",
    "            i += 2\n",
    "        elif sm[i]=='S' and sm[i+1]=='i':\n",
    "            arr.append(sm[i:i+2])\n",
    "            i += 2\n",
    "        elif sm[i]=='S' and sm[i+1]=='e':\n",
    "            arr.append(sm[i:i+2])\n",
    "            i += 2\n",
    "        elif sm[i]=='S' and sm[i+1]=='r':\n",
    "            arr.append(sm[i:i+2])\n",
    "            i += 2\n",
    "        elif sm[i]=='N' and sm[i+1]=='a':\n",
    "            arr.append(sm[i:i+2])\n",
    "            i += 2\n",
    "        elif sm[i]=='N' and sm[i+1]=='i':\n",
    "            arr.append(sm[i:i+2])\n",
    "            i += 2\n",
    "        elif sm[i]=='R' and sm[i+1]=='b':\n",
    "            arr.append(sm[i:i+2])\n",
    "            i += 2\n",
    "        elif sm[i]=='R' and sm[i+1]=='a':\n",
    "            arr.append(sm[i:i+2])\n",
    "            i += 2\n",
    "        elif sm[i]=='X' and sm[i+1]=='e':\n",
    "            arr.append(sm[i:i+2])\n",
    "            i += 2\n",
    "        elif sm[i]=='L' and sm[i+1]=='i':\n",
    "            arr.append(sm[i:i+2])\n",
    "            i += 2\n",
    "        elif sm[i]=='A' and sm[i+1]=='l':\n",
    "            arr.append(sm[i:i+2])\n",
    "            i += 2\n",
    "        elif sm[i]=='A' and sm[i+1]=='s':\n",
    "            arr.append(sm[i:i+2])\n",
    "            i += 2\n",
    "        elif sm[i]=='A' and sm[i+1]=='g':\n",
    "            arr.append(sm[i:i+2])\n",
    "            i += 2\n",
    "        elif sm[i]=='A' and sm[i+1]=='u':\n",
    "            arr.append(sm[i:i+2])\n",
    "            i += 2\n",
    "        elif sm[i]=='M' and sm[i+1]=='g':\n",
    "            arr.append(sm[i:i+2])\n",
    "            i += 2\n",
    "        elif sm[i]=='M' and sm[i+1]=='n':\n",
    "            arr.append(sm[i:i+2])\n",
    "            i += 2\n",
    "        elif sm[i]=='T' and sm[i+1]=='e':\n",
    "            arr.append(sm[i:i+2])\n",
    "            i += 2\n",
    "        elif sm[i]=='Z' and sm[i+1]=='n':\n",
    "            arr.append(sm[i:i+2])\n",
    "            i += 2\n",
    "        elif sm[i]=='s' and sm[i+1]=='i':\n",
    "            arr.append(sm[i:i+2])\n",
    "            i += 2\n",
    "        elif sm[i]=='s' and sm[i+1]=='e':\n",
    "            arr.append(sm[i:i+2])\n",
    "            i += 2\n",
    "        elif sm[i]=='t' and sm[i+1]=='e':\n",
    "            arr.append(sm[i:i+2])\n",
    "            i += 2\n",
    "        elif sm[i]=='H' and sm[i+1]=='e':\n",
    "            arr.append(sm[i:i+2])\n",
    "            i += 2\n",
    "        elif sm[i]=='+' and sm[i+1]=='2':\n",
    "            arr.append(sm[i:i+2])\n",
    "            i += 2\n",
    "        elif sm[i]=='+' and sm[i+1]=='3':\n",
    "            arr.append(sm[i:i+2])\n",
    "            i += 2\n",
    "        elif sm[i]=='+' and sm[i+1]=='4':\n",
    "            arr.append(sm[i:i+2])\n",
    "            i += 2\n",
    "        elif sm[i]=='-' and sm[i+1]=='2':\n",
    "            arr.append(sm[i:i+2])\n",
    "            i += 2\n",
    "        elif sm[i]=='-' and sm[i+1]=='3':\n",
    "            arr.append(sm[i:i+2])\n",
    "            i += 2\n",
    "        elif sm[i]=='-' and sm[i+1]=='4':\n",
    "            arr.append(sm[i:i+2])\n",
    "            i += 2\n",
    "        elif sm[i]=='K' and sm[i+1]=='r':\n",
    "            arr.append(sm[i:i+2])\n",
    "            i += 2\n",
    "        elif sm[i]=='F' and sm[i+1]=='e':\n",
    "            arr.append(sm[i:i+2])\n",
    "            i += 2\n",
    "        else:\n",
    "            arr.append(sm[i])\n",
    "            i += 1\n",
    "    if i == len(sm)-1:\n",
    "        arr.append(sm[i])\n",
    "    return ' '.join(arr) "
   ]
  },
  {
   "cell_type": "code",
   "execution_count": 48,
   "metadata": {},
   "outputs": [
    {
     "name": "stderr",
     "output_type": "stream",
     "text": [
      "100%|██████████| 706/706 [00:00<00:00, 25281.56it/s]"
     ]
    },
    {
     "name": "stdout",
     "output_type": "stream",
     "text": [
      "Built pharm & smi corpus file!\n"
     ]
    },
    {
     "name": "stderr",
     "output_type": "stream",
     "text": [
      "\n"
     ]
    }
   ],
   "source": [
    "pharm_corpus_path = 'data/pharm_corpus1.txt'\n",
    "smi_corpus_path = 'data/smi_corpus1.txt'\n",
    "smi_pharm_filepath = 'data/smi_pharm_corpus1.txt'\n",
    "#from utils import split\n",
    "with open(pharm_corpus_path, 'w') as f1, open(smi_corpus_path, 'w') as f2:\n",
    "    for i in tqdm(range(len(fp))):\n",
    "        if fp[i] is None:\n",
    "            pass\n",
    "        else:\n",
    "            sm = fp[i][0]\n",
    "            word = str(fp[i][1:])\n",
    "            word  = word.replace(\"'\", \"\")\n",
    "            word  = word.replace(\",\", \"\")\n",
    "            word  = word.replace(\"[\", \"\")\n",
    "            word  = word.replace(\"]\", \"\")\n",
    "        #word\n",
    "            f1.write(word + '\\n')\n",
    "            f2.write(split(sm) +'\\n')\n",
    "print('Built pharm & smi corpus file!')"
   ]
  },
  {
   "cell_type": "markdown",
   "metadata": {},
   "source": [
    "InChI"
   ]
  },
  {
   "cell_type": "code",
   "execution_count": 49,
   "metadata": {},
   "outputs": [],
   "source": [
    "def get_inchi(smile):\n",
    "    mol = Chem.MolFromSmiles(smile)\n",
    "    inchi = Chem.MolToInchi(mol)\n",
    "    return smile +' ' + inchi"
   ]
  },
  {
   "cell_type": "code",
   "execution_count": 50,
   "metadata": {},
   "outputs": [
    {
     "name": "stderr",
     "output_type": "stream",
     "text": [
      "进度： 0: 100%|██████████| 69/69 [00:00<?, ?it/s]\n",
      "进度： 1: 100%|██████████| 72/72 [00:00<00:00, 72211.83it/s]\n",
      "进度： 2: 100%|██████████| 72/72 [00:00<00:00, 72160.07it/s]\n",
      "进度： 3: 100%|██████████| 72/72 [00:00<00:00, 72211.83it/s]\n",
      "进度： 4: 100%|██████████| 73/73 [00:00<?, ?it/s]\n",
      "进度： 5: 100%|██████████| 71/71 [00:00<00:00, 71225.92it/s]"
     ]
    },
    {
     "name": "stderr",
     "output_type": "stream",
     "text": [
      "\n",
      "进度： 6: 100%|██████████| 66/66 [00:00<?, ?it/s]\n",
      "进度： 7: 100%|██████████| 65/65 [00:00<?, ?it/s]\n",
      "进度： 8: 100%|██████████| 73/73 [00:00<?, ?it/s]\n",
      "进度： 9: 100%|██████████| 73/73 [00:00<?, ?it/s]\n"
     ]
    }
   ],
   "source": [
    "from tqdm import tqdm\n",
    "fp=[]\n",
    "with open ('smiles.txt' ,'w')as f:\n",
    "    for i in range(10):\n",
    "        file=open('data/pharm/2d_pharm_fp_list_1_%d.txt' %i, mode='r',encoding='UTF-8')\n",
    "        contents = file.readlines()   \n",
    "        for msg in tqdm(contents,desc='进度： %s' %i):\n",
    "            msg = msg.strip('\\n')\n",
    "            adm = msg.split(' ')\n",
    "            fp.append(adm[0])\n",
    "            f.write(adm[0]+'\\n')\n",
    "        file.close()"
   ]
  },
  {
   "cell_type": "code",
   "execution_count": 52,
   "metadata": {},
   "outputs": [
    {
     "name": "stderr",
     "output_type": "stream",
     "text": [
      "%d 监视进度:: 100%|██████████| 706/706 [00:00<00:00, 2510.24it/s]\n"
     ]
    }
   ],
   "source": [
    "inchi = list(tqdm(map(get_inchi,fp),total=len(fp), desc='%d 监视进度:' ))\n",
    "inchi_filter_None = []\n",
    "for item in inchi:\n",
    "    if item != None :\n",
    "        inchi_filter_None.append(item)\n",
    "\n",
    "    inchi_dir = 'data/inchi/'\n",
    "    if not os.path.isdir(inchi_dir ):\n",
    "                    os.makedirs(inchi_dir )\n",
    "\n",
    "with open('data/inchi/inchi_list.txt','w') as f:\n",
    "    for i in inchi_filter_None:\n",
    "        f.write(i)\n",
    "        f.write('\\n')\n",
    "    f.close()"
   ]
  },
  {
   "cell_type": "code",
   "execution_count": 53,
   "metadata": {},
   "outputs": [
    {
     "data": {
      "text/html": [
       "<div>\n",
       "<style scoped>\n",
       "    .dataframe tbody tr th:only-of-type {\n",
       "        vertical-align: middle;\n",
       "    }\n",
       "\n",
       "    .dataframe tbody tr th {\n",
       "        vertical-align: top;\n",
       "    }\n",
       "\n",
       "    .dataframe thead th {\n",
       "        text-align: right;\n",
       "    }\n",
       "</style>\n",
       "<table border=\"1\" class=\"dataframe\">\n",
       "  <thead>\n",
       "    <tr style=\"text-align: right;\">\n",
       "      <th></th>\n",
       "      <th>0</th>\n",
       "      <th>1</th>\n",
       "    </tr>\n",
       "  </thead>\n",
       "  <tbody>\n",
       "    <tr>\n",
       "      <th>0</th>\n",
       "      <td>CN(c1ccccc1)c1ccccc1C(=O)NCC1(O)CCOCC1</td>\n",
       "      <td>InChI=1S/C20H24N2O3/c1-22(16-7-3-2-4-8-16)18-1...</td>\n",
       "    </tr>\n",
       "    <tr>\n",
       "      <th>1</th>\n",
       "      <td>CC[NH+](CC)C1CCC([NH2+]C2CC2)(C(=O)[O-])C1</td>\n",
       "      <td>InChI=1S/C13H24N2O2/c1-3-15(4-2)11-7-8-13(9-11...</td>\n",
       "    </tr>\n",
       "    <tr>\n",
       "      <th>2</th>\n",
       "      <td>COCC(CNC(=O)c1ccc2c(c1)NC(=O)C2)OC</td>\n",
       "      <td>InChI=1S/C14H18N2O4/c1-19-8-11(20-2)7-15-14(18...</td>\n",
       "    </tr>\n",
       "    <tr>\n",
       "      <th>3</th>\n",
       "      <td>OCCn1cc(CNc2cccc3c2CCCC3)nn1</td>\n",
       "      <td>InChI=1S/C15H20N4O/c20-9-8-19-11-13(17-18-19)1...</td>\n",
       "    </tr>\n",
       "    <tr>\n",
       "      <th>4</th>\n",
       "      <td>O=C(NCc1ccc(F)cc1)N1CC=C(c2c[nH]c3ccccc23)CC1</td>\n",
       "      <td>InChI=1S/C21H20FN3O/c22-17-7-5-15(6-8-17)13-24...</td>\n",
       "    </tr>\n",
       "    <tr>\n",
       "      <th>...</th>\n",
       "      <td>...</td>\n",
       "      <td>...</td>\n",
       "    </tr>\n",
       "    <tr>\n",
       "      <th>701</th>\n",
       "      <td>Cc1ncnc(NCCOc2ccccc2Cl)c1C</td>\n",
       "      <td>InChI=1S/C14H16ClN3O/c1-10-11(2)17-9-18-14(10)...</td>\n",
       "    </tr>\n",
       "    <tr>\n",
       "      <th>702</th>\n",
       "      <td>[NH3+]C(CSc1ncccn1)c1ccc(F)c(F)c1</td>\n",
       "      <td>InChI=1S/C12H11F2N3S/c13-9-3-2-8(6-10(9)14)11(...</td>\n",
       "    </tr>\n",
       "    <tr>\n",
       "      <th>703</th>\n",
       "      <td>CC(C)Oc1cccc2[nH]cc(C(=O)C3CCCCC3)c12</td>\n",
       "      <td>InChI=1S/C18H23NO2/c1-12(2)21-16-10-6-9-15-17(...</td>\n",
       "    </tr>\n",
       "    <tr>\n",
       "      <th>704</th>\n",
       "      <td>COc1cccc2c1C([NH3+])(C(=O)[O-])CC(C)(C)O2</td>\n",
       "      <td>InChI=1S/C13H17NO4/c1-12(2)7-13(14,11(15)16)10...</td>\n",
       "    </tr>\n",
       "    <tr>\n",
       "      <th>705</th>\n",
       "      <td>CN(Cc1ccsc1)C(=O)C1(C(F)(F)F)CCNC1</td>\n",
       "      <td>InChI=1S/C12H15F3N2OS/c1-17(6-9-2-5-19-7-9)10(...</td>\n",
       "    </tr>\n",
       "  </tbody>\n",
       "</table>\n",
       "<p>706 rows × 2 columns</p>\n",
       "</div>"
      ],
      "text/plain": [
       "                                                 0  \\\n",
       "0           CN(c1ccccc1)c1ccccc1C(=O)NCC1(O)CCOCC1   \n",
       "1       CC[NH+](CC)C1CCC([NH2+]C2CC2)(C(=O)[O-])C1   \n",
       "2               COCC(CNC(=O)c1ccc2c(c1)NC(=O)C2)OC   \n",
       "3                     OCCn1cc(CNc2cccc3c2CCCC3)nn1   \n",
       "4    O=C(NCc1ccc(F)cc1)N1CC=C(c2c[nH]c3ccccc23)CC1   \n",
       "..                                             ...   \n",
       "701                     Cc1ncnc(NCCOc2ccccc2Cl)c1C   \n",
       "702              [NH3+]C(CSc1ncccn1)c1ccc(F)c(F)c1   \n",
       "703          CC(C)Oc1cccc2[nH]cc(C(=O)C3CCCCC3)c12   \n",
       "704      COc1cccc2c1C([NH3+])(C(=O)[O-])CC(C)(C)O2   \n",
       "705             CN(Cc1ccsc1)C(=O)C1(C(F)(F)F)CCNC1   \n",
       "\n",
       "                                                     1  \n",
       "0    InChI=1S/C20H24N2O3/c1-22(16-7-3-2-4-8-16)18-1...  \n",
       "1    InChI=1S/C13H24N2O2/c1-3-15(4-2)11-7-8-13(9-11...  \n",
       "2    InChI=1S/C14H18N2O4/c1-19-8-11(20-2)7-15-14(18...  \n",
       "3    InChI=1S/C15H20N4O/c20-9-8-19-11-13(17-18-19)1...  \n",
       "4    InChI=1S/C21H20FN3O/c22-17-7-5-15(6-8-17)13-24...  \n",
       "..                                                 ...  \n",
       "701  InChI=1S/C14H16ClN3O/c1-10-11(2)17-9-18-14(10)...  \n",
       "702  InChI=1S/C12H11F2N3S/c13-9-3-2-8(6-10(9)14)11(...  \n",
       "703  InChI=1S/C18H23NO2/c1-12(2)21-16-10-6-9-15-17(...  \n",
       "704  InChI=1S/C13H17NO4/c1-12(2)7-13(14,11(15)16)10...  \n",
       "705  InChI=1S/C12H15F3N2OS/c1-17(6-9-2-5-19-7-9)10(...  \n",
       "\n",
       "[706 rows x 2 columns]"
      ]
     },
     "execution_count": 53,
     "metadata": {},
     "output_type": "execute_result"
    }
   ],
   "source": [
    "inchi_df = pd.read_csv('data/inchi/inchi_list.txt', sep=' ', header = None)\n",
    "inchi_df"
   ]
  },
  {
   "cell_type": "code",
   "execution_count": 54,
   "metadata": {},
   "outputs": [],
   "source": [
    "def split_inchi(inchi):\n",
    "    '''\n",
    "    function: Split inchi into words. Care for Cl, Br, Si, Se, Na etc.\n",
    "    input: A inchi\n",
    "    output: A string with space between words\n",
    "    '''\n",
    "    arr = []\n",
    "    i = 0\n",
    "    while i < len(inchi)-1:\n",
    "        if not inchi[i] in ['%', 'C', 'B', 'S', 'N', 'R', 'X', 'L', 'A', 'M', \\\n",
    "                        'T', 'Z', 's', 't', 'H', '+', 'K', 'F','I','1','2','3','4']:\n",
    "            arr.append(inchi[i])\n",
    "            i += 1\n",
    "        elif inchi[i]=='%':\n",
    "            arr.append(inchi[i:i+3])\n",
    "            i += 3\n",
    "        elif inchi[i]=='C' and inchi[i+1]=='l':\n",
    "            arr.append(inchi[i:i+2])\n",
    "            i += 2\n",
    "        elif inchi[i]=='C' and inchi[i+1]=='a':\n",
    "            arr.append(inchi[i:i+2])\n",
    "            i += 2\n",
    "        elif inchi[i]=='C' and inchi[i+1]=='u':\n",
    "            arr.append(inchi[i:i+2])\n",
    "            i += 2\n",
    "        elif inchi[i]=='B' and inchi[i+1]=='r':\n",
    "            arr.append(inchi[i:i+2])\n",
    "            i += 2\n",
    "        elif inchi[i]=='B' and inchi[i+1]=='e':\n",
    "            arr.append(inchi[i:i+2])\n",
    "            i += 2\n",
    "        elif inchi[i]=='B' and inchi[i+1]=='a':\n",
    "            arr.append(inchi[i:i+2])\n",
    "            i += 2\n",
    "        elif inchi[i]=='B' and inchi[i+1]=='i':\n",
    "            arr.append(inchi[i:i+2])\n",
    "            i += 2\n",
    "        elif inchi[i]=='S' and inchi[i+1]=='i':\n",
    "            arr.append(inchi[i:i+2])\n",
    "            i += 2\n",
    "        elif inchi[i]=='S' and inchi[i+1]=='e':\n",
    "            arr.append(inchi[i:i+2])\n",
    "            i += 2\n",
    "        elif inchi[i]=='S' and inchi[i+1]=='r':\n",
    "            arr.append(inchi[i:i+2])\n",
    "            i += 2\n",
    "        elif inchi[i]=='N' and inchi[i+1]=='a':\n",
    "            arr.append(inchi[i:i+2])\n",
    "            i += 2\n",
    "        elif inchi[i]=='N' and inchi[i+1]=='i':\n",
    "            arr.append(inchi[i:i+2])\n",
    "            i += 2\n",
    "        elif inchi[i]=='R' and inchi[i+1]=='b':\n",
    "            arr.append(inchi[i:i+2])\n",
    "            i += 2\n",
    "        elif inchi[i]=='R' and inchi[i+1]=='a':\n",
    "            arr.append(inchi[i:i+2])\n",
    "            i += 2\n",
    "        elif inchi[i]=='X' and inchi[i+1]=='e':\n",
    "            arr.append(inchi[i:i+2])\n",
    "            i += 2\n",
    "        elif inchi[i]=='L' and inchi[i+1]=='i':\n",
    "            arr.append(inchi[i:i+2])\n",
    "            i += 2\n",
    "        elif inchi[i]=='A' and inchi[i+1]=='l':\n",
    "            arr.append(inchi[i:i+2])\n",
    "            i += 2\n",
    "        elif inchi[i]=='A' and inchi[i+1]=='s':\n",
    "            arr.append(inchi[i:i+2])\n",
    "            i += 2\n",
    "        elif inchi[i]=='A' and inchi[i+1]=='g':\n",
    "            arr.append(inchi[i:i+2])\n",
    "            i += 2\n",
    "        elif inchi[i]=='A' and inchi[i+1]=='u':\n",
    "            arr.append(inchi[i:i+2])\n",
    "            i += 2\n",
    "        elif inchi[i]=='M' and inchi[i+1]=='g':\n",
    "            arr.append(inchi[i:i+2])\n",
    "            i += 2\n",
    "        elif inchi[i]=='M' and inchi[i+1]=='n':\n",
    "            arr.append(inchi[i:i+2])\n",
    "            i += 2\n",
    "        elif inchi[i]=='T' and inchi[i+1]=='e':\n",
    "            arr.append(inchi[i:i+2])\n",
    "            i += 2\n",
    "        elif inchi[i]=='Z' and inchi[i+1]=='n':\n",
    "            arr.append(inchi[i:i+2])\n",
    "            i += 2\n",
    "        elif inchi[i]=='s' and inchi[i+1]=='i':\n",
    "            arr.append(inchi[i:i+2])\n",
    "            i += 2\n",
    "        elif inchi[i]=='s' and inchi[i+1]=='e':\n",
    "            arr.append(inchi[i:i+2])\n",
    "            i += 2\n",
    "        elif inchi[i]=='t' and inchi[i+1]=='e':\n",
    "            arr.append(inchi[i:i+2])\n",
    "            i += 2\n",
    "        elif inchi[i]=='H' and inchi[i+1]=='e':\n",
    "            arr.append(inchi[i:i+2])\n",
    "            i += 2\n",
    "        elif inchi[i]=='+' and inchi[i+1]=='2':\n",
    "            arr.append(inchi[i:i+2])\n",
    "            i += 2\n",
    "        elif inchi[i]=='+' and inchi[i+1]=='3':\n",
    "            arr.append(inchi[i:i+2])\n",
    "            i += 2\n",
    "        elif inchi[i]=='+' and inchi[i+1]=='4':\n",
    "            arr.append(inchi[i:i+2])\n",
    "            i += 2\n",
    "        elif inchi[i]=='K' and inchi[i+1]=='r':\n",
    "            arr.append(inchi[i:i+2])\n",
    "            i += 2\n",
    "        elif inchi[i]=='F' and inchi[i+1]=='e':\n",
    "            arr.append(inchi[i:i+2])\n",
    "            i += 2\n",
    "        elif inchi[i]=='I' and inchi[i+1]=='n' and inchi[i+2]=='C':\n",
    "            arr.append(inchi[i:i+9])\n",
    "            i += 9\n",
    "        elif inchi[i]=='1' and (inchi[i+1]=='0'or inchi[i+1]=='1' or inchi[i+1]=='2' or inchi[i+1]=='3'or inchi[i+1]=='4'or inchi[i+1]=='5'or inchi[i+1]=='6'or inchi[i+1]=='7'or inchi[i+1]=='8'or inchi[i+1]=='9'):\n",
    "            arr.append(inchi[i:i+2])\n",
    "            i += 2   \n",
    "        elif inchi[i]=='2' and (inchi[i+1]=='0'or inchi[i+1]=='1' or inchi[i+1]=='2' or inchi[i+1]=='3'or inchi[i+1]=='4'or inchi[i+1]=='5'or inchi[i+1]=='6'or inchi[i+1]=='7'or inchi[i+1]=='8'or inchi[i+1]=='9'):\n",
    "            arr.append(inchi[i:i+2])\n",
    "            i += 2   \n",
    "        elif inchi[i]=='3' and (inchi[i+1]=='0'or inchi[i+1]=='1' or inchi[i+1]=='2' or inchi[i+1]=='3'or inchi[i+1]=='4'or inchi[i+1]=='5'or inchi[i+1]=='6'or inchi[i+1]=='7'or inchi[i+1]=='8'or inchi[i+1]=='9'):\n",
    "            arr.append(inchi[i:i+2])\n",
    "            i += 2 \n",
    "        elif inchi[i]=='4' and (inchi[i+1]=='0'or inchi[i+1]=='1' or inchi[i+1]=='2' or inchi[i+1]=='3'or inchi[i+1]=='4'or inchi[i+1]=='5'or inchi[i+1]=='6'or inchi[i+1]=='7'or inchi[i+1]=='8'or inchi[i+1]=='9'):\n",
    "            arr.append(inchi[i:i+2])\n",
    "            i += 2 \n",
    "        else: \n",
    "            arr.append(inchi[i])\n",
    "            i += 1\n",
    "    if i == len(inchi)-1:\n",
    "        arr.append(inchi[i])\n",
    "    return ' '.join(arr) "
   ]
  },
  {
   "cell_type": "code",
   "execution_count": 55,
   "metadata": {},
   "outputs": [
    {
     "name": "stderr",
     "output_type": "stream",
     "text": [
      "100%|██████████| 706/706 [00:00<00:00, 707569.56it/s]\n"
     ]
    }
   ],
   "source": [
    "inchi = []\n",
    "with open('data/inchi/inchi_list.txt','r') as file:\n",
    "    contents = file.readlines()\n",
    "    for msg in tqdm(contents):\n",
    "        msg = msg.strip('\\n')\n",
    "        adm = msg.split(' ')\n",
    "        inchi.append(adm)\n",
    "\n"
   ]
  },
  {
   "cell_type": "code",
   "execution_count": 56,
   "metadata": {},
   "outputs": [
    {
     "name": "stderr",
     "output_type": "stream",
     "text": [
      "  0%|          | 0/706 [00:00<?, ?it/s]"
     ]
    },
    {
     "name": "stderr",
     "output_type": "stream",
     "text": [
      "100%|██████████| 706/706 [00:00<00:00, 7694.13it/s]"
     ]
    },
    {
     "name": "stdout",
     "output_type": "stream",
     "text": [
      "Built inchi & smi corpus file!\n"
     ]
    },
    {
     "name": "stderr",
     "output_type": "stream",
     "text": [
      "\n"
     ]
    }
   ],
   "source": [
    "inchi_corpus_path = 'data/inchi_corpus1.txt'\n",
    "smi_corpus_path = 'data/smi_corpus2.txt'\n",
    "smi_inchi_filepath = 'data/smi_inchi_corpus1.txt'\n",
    "#from utils import split\n",
    "with open(inchi_corpus_path, 'w') as f1, open(smi_corpus_path, 'w') as f2:\n",
    "    for i in tqdm(range(len(inchi))):\n",
    "        if inchi[i] is None:\n",
    "            pass\n",
    "        else:\n",
    "            sm = inchi[i][0]\n",
    "            word = inchi[i][1]\n",
    "            f1.write(split_inchi(word) + '\\n')\n",
    "            f2.write(split(sm) +'\\n')\n",
    "print('Built inchi & smi corpus file!')"
   ]
  },
  {
   "cell_type": "markdown",
   "metadata": {},
   "source": [
    "PubChem"
   ]
  },
  {
   "cell_type": "code",
   "execution_count": 57,
   "metadata": {},
   "outputs": [],
   "source": [
    "from pubchemfp import GetPubChemFPs\n",
    "import numpy as np\n",
    "from rdkit import Chem\n",
    "from tqdm import tqdm"
   ]
  },
  {
   "cell_type": "code",
   "execution_count": 58,
   "metadata": {},
   "outputs": [],
   "source": [
    "def GetPubChemFpBits(smiles):\n",
    "    mol = Chem.MolFromSmiles(smiles)\n",
    "    mol2 = Chem.AddHs(mol)\n",
    "    try:\n",
    "        result = GetPubChemFPs(mol2)\n",
    "    except:\n",
    "        pass\n",
    "    else:\n",
    "        bit = []\n",
    "        for i in range(881):\n",
    "            if result[i] == True:\n",
    "                bit.append(i)\n",
    "        return [smiles] + bit"
   ]
  },
  {
   "cell_type": "code",
   "execution_count": 59,
   "metadata": {},
   "outputs": [
    {
     "name": "stderr",
     "output_type": "stream",
     "text": [
      "进度： 0: 100%|██████████| 69/69 [00:00<00:00, 69087.37it/s]\n",
      "进度： 1: 100%|██████████| 72/72 [00:00<?, ?it/s]\n",
      "进度： 2: 100%|██████████| 72/72 [00:00<?, ?it/s]\n",
      "进度： 3: 100%|██████████| 72/72 [00:00<00:00, 72125.60it/s]\n",
      "进度： 4: 100%|██████████| 73/73 [00:00<?, ?it/s]\n",
      "进度： 5: 100%|██████████| 71/71 [00:00<?, ?it/s]\n",
      "进度： 6: 100%|██████████| 66/66 [00:00<?, ?it/s]\n",
      "进度： 7: 100%|██████████| 65/65 [00:00<?, ?it/s]\n",
      "进度： 8: 100%|██████████| 73/73 [00:00<00:00, 73162.29it/s]\n",
      "进度： 9: 100%|██████████| 73/73 [00:00<00:00, 73214.78it/s]\n"
     ]
    }
   ],
   "source": [
    "\n",
    "fp=[]\n",
    "with open ('smiles.txt' ,'w')as f:\n",
    "    for i in range(10):\n",
    "        file=open('data/pharm/2d_pharm_fp_list_1_%d.txt' %i, mode='r',encoding='UTF-8')\n",
    "        contents = file.readlines()   \n",
    "        for msg in tqdm(contents,desc='进度： %s' %i):\n",
    "            msg = msg.strip('\\n')\n",
    "            adm = msg.split(' ')\n",
    "            fp.append(adm[0])\n",
    "            f.write(adm[0]+'\\n')\n",
    "        file.close()"
   ]
  },
  {
   "cell_type": "code",
   "execution_count": 60,
   "metadata": {},
   "outputs": [
    {
     "data": {
      "text/plain": [
       "71"
      ]
     },
     "execution_count": 60,
     "metadata": {},
     "output_type": "execute_result"
    }
   ],
   "source": [
    "smiles = fp\n",
    "len(smiles)\n",
    "data_split= np.array_split(smiles, 10)\n",
    "len(data_split[0])"
   ]
  },
  {
   "cell_type": "code",
   "execution_count": 61,
   "metadata": {},
   "outputs": [
    {
     "name": "stderr",
     "output_type": "stream",
     "text": [
      "0 监视进度:: 100%|██████████| 71/71 [00:00<00:00, 163.65it/s]\n",
      "1 监视进度:: 100%|██████████| 71/71 [00:00<00:00, 180.67it/s]\n",
      "2 监视进度:: 100%|██████████| 71/71 [00:00<00:00, 181.61it/s]\n",
      "3 监视进度:: 100%|██████████| 71/71 [00:00<00:00, 174.90it/s]\n",
      "4 监视进度:: 100%|██████████| 71/71 [00:00<00:00, 169.68it/s]\n",
      "5 监视进度:: 100%|██████████| 71/71 [00:00<00:00, 175.67it/s]\n",
      "6 监视进度:: 100%|██████████| 70/70 [00:00<00:00, 176.08it/s]\n",
      "7 监视进度:: 100%|██████████| 70/70 [00:00<00:00, 164.89it/s]\n",
      "8 监视进度:: 100%|██████████| 70/70 [00:00<00:00, 163.23it/s]\n",
      "9 监视进度:: 100%|██████████| 70/70 [00:00<00:00, 171.51it/s]\n"
     ]
    }
   ],
   "source": [
    "for i in range(10):\n",
    "    mols = data_split[i].tolist()\n",
    "    fp = list(tqdm(map(GetPubChemFpBits,mols),total=len(data_split[i]), desc='%d 监视进度:' %(i,)))\n",
    "\n",
    "    fp_filter_None = []\n",
    "    for item in fp:\n",
    "        if item != None :\n",
    "            fp_filter_None.append(item)\n",
    "\n",
    "    pubchem_dir = 'data/pubchem/'\n",
    "    if not os.path.isdir(pubchem_dir ):\n",
    "                    os.makedirs(pubchem_dir )\n",
    "\n",
    "    with open('data/pubchem/pubchem_fp_list_%d.txt' %i,'w') as f:\n",
    "        for i in fp_filter_None:\n",
    "            for j in i:\n",
    "                f.write(str(j))\n",
    "                f.write(' ')\n",
    "            f.write('\\n')\n",
    "        f.close()"
   ]
  },
  {
   "cell_type": "code",
   "execution_count": 62,
   "metadata": {},
   "outputs": [
    {
     "name": "stderr",
     "output_type": "stream",
     "text": [
      "进度： 0: 100%|██████████| 71/71 [00:00<00:00, 71413.81it/s]\n",
      "进度： 1: 100%|██████████| 71/71 [00:00<?, ?it/s]\n",
      "进度： 2: 100%|██████████| 71/71 [00:00<?, ?it/s]\n",
      "进度： 3: 100%|██████████| 71/71 [00:00<?, ?it/s]\n",
      "进度： 4: 100%|██████████| 71/71 [00:00<00:00, 71225.92it/s]\n",
      "进度： 5: 100%|██████████| 71/71 [00:00<00:00, 71157.85it/s]\n",
      "进度： 6: 100%|██████████| 70/70 [00:00<00:00, 70289.99it/s]\n",
      "进度： 7: 100%|██████████| 70/70 [00:00<00:00, 70122.11it/s]\n",
      "进度： 8: 100%|██████████| 70/70 [00:00<?, ?it/s]\n",
      "进度： 9: 100%|██████████| 70/70 [00:00<00:00, 70189.17it/s]\n"
     ]
    }
   ],
   "source": [
    "pub_fp=[]\n",
    "for i in range(10):\n",
    "    file=open('data/pubchem/pubchem_fp_list_%d.txt' %i, mode='r',encoding='UTF-8')\n",
    "    contents = file.readlines()\n",
    "    for msg in tqdm(contents,desc='进度： %s' %i):\n",
    "        msg = msg.strip('\\n')\n",
    "        adm = msg.split(' ')\n",
    "        pub_fp.append(adm)\n",
    "    file.close()"
   ]
  },
  {
   "cell_type": "code",
   "execution_count": 68,
   "metadata": {},
   "outputs": [
    {
     "name": "stderr",
     "output_type": "stream",
     "text": [
      "100%|██████████| 706/706 [00:00<00:00, 22119.97it/s]"
     ]
    },
    {
     "name": "stdout",
     "output_type": "stream",
     "text": [
      "Built pharm & smi corpus file!\n"
     ]
    },
    {
     "name": "stderr",
     "output_type": "stream",
     "text": [
      "\n"
     ]
    }
   ],
   "source": [
    "pubchem_corpus_path = 'data/pubchemfp_corpus1.txt'\n",
    "smi_corpus_path = 'data/smi_corpus3.txt'\n",
    "smi_pubchem_filepath = 'data/smi_pubchemfp_corpus1.txt'\n",
    "#from utils import split\n",
    "with open(pubchem_corpus_path, 'w') as f1, open(smi_corpus_path, 'w') as f2:\n",
    "    for i in tqdm(range(len(pub_fp))):\n",
    "        if pub_fp[i] is None:\n",
    "            pass\n",
    "        else:\n",
    "            sm = pub_fp[i][0]\n",
    "            word = str(pub_fp[i][1:])\n",
    "            word  = word.replace(\"'\", \"\")\n",
    "            word  = word.replace(\",\", \"\")\n",
    "            word  = word.replace(\"[\", \"\")\n",
    "            word  = word.replace(\"]\", \"\")\n",
    "        #word\n",
    "            f1.write(word + '\\n')\n",
    "            f2.write(split(sm) +'\\n')\n",
    "print('Built pharm & smi corpus file!')"
   ]
  },
  {
   "cell_type": "markdown",
   "metadata": {},
   "source": [
    "Build smi_pharm_inchi_pubchem_corpus"
   ]
  },
  {
   "cell_type": "code",
   "execution_count": 69,
   "metadata": {},
   "outputs": [
    {
     "name": "stderr",
     "output_type": "stream",
     "text": [
      "706it [00:00, 708924.74it/s]\n",
      "706it [00:00, 235912.89it/s]\n",
      "706it [00:00, 354080.91it/s]\n",
      "706it [00:00, 354292.73it/s]"
     ]
    },
    {
     "name": "stdout",
     "output_type": "stream",
     "text": [
      "Built smi_pharm_inchi translation corpus file!\n"
     ]
    },
    {
     "name": "stderr",
     "output_type": "stream",
     "text": [
      "\n"
     ]
    }
   ],
   "source": [
    "pharm_corpus_path = 'data/pharm_corpus1.txt'\n",
    "smi_corpus_path = 'data/smi_corpus1.txt'\n",
    "smi_pharm_filepath = 'data/smi_pharm_inchi_pubchem_corpus2.txt'\n",
    "inchi_corpus_path = 'data/inchi_corpus1.txt'\n",
    "pubchem_corpus_path = 'data/pubchemfp_corpus1.txt'\n",
    "\n",
    "s = []\n",
    "f = open(smi_corpus_path,'r')\n",
    "for line in tqdm(f):\n",
    "    line = line.strip('\\n')\n",
    "    s.append(line)\n",
    "f.close()\n",
    "\n",
    "pubfp = []\n",
    "f = open(pubchem_corpus_path,'r')\n",
    "for line in tqdm(f):\n",
    "    line = line.strip('\\n')\n",
    "    pubfp.append(line)\n",
    "f.close()\n",
    "\n",
    "fp = []\n",
    "f = open(pharm_corpus_path,'r')\n",
    "for line in tqdm(f):\n",
    "    line = line.strip('\\n')\n",
    "    fp.append(line)\n",
    "f.close()\n",
    "\n",
    "inchi = []\n",
    "f = open(inchi_corpus_path,'r')\n",
    "for line in tqdm(f):\n",
    "    line = line.strip('\\n')\n",
    "    inchi.append(line)\n",
    "f.close()\n",
    "\n",
    "dfs = pd.DataFrame(s)\n",
    "dffp = pd.DataFrame(fp)\n",
    "dfinchi = pd.DataFrame(inchi)\n",
    "dfpub = pd.DataFrame(pubfp)\n",
    "\n",
    "data = pd.concat([dfs, dffp,dfinchi,dfpub],axis=1,ignore_index=True)\n",
    "data.columns = ['smiles','pharmfp','inchi','pubchemfp']\n",
    "data.to_csv(smi_pharm_filepath,index=False,sep='\\t',header=False)\n",
    "print('Built smi_pharm_inchi translation corpus file!')"
   ]
  },
  {
   "cell_type": "code",
   "execution_count": 70,
   "metadata": {},
   "outputs": [
    {
     "name": "stdout",
     "output_type": "stream",
     "text": [
      "Building Vocab\n",
      "VOCAB SIZE: 1396\n",
      "Vocab build done! \n",
      "Building Vocab\n",
      "VOCAB SIZE: 37\n",
      "Vocab build done! \n"
     ]
    }
   ],
   "source": [
    "import BuildVocab\n",
    "\n",
    "pharm_vocab_path = 'data/pharm_vocab1.pkl'\n",
    "smi_vocab_path = 'data/smi_vocab1.pkl'\n",
    "\n",
    "BuildVocab.built_vocab(pharm_corpus_path,pharm_vocab_path)\n",
    "BuildVocab.built_vocab(smi_corpus_path,smi_vocab_path)"
   ]
  },
  {
   "cell_type": "code",
   "execution_count": 71,
   "metadata": {},
   "outputs": [
    {
     "name": "stdout",
     "output_type": "stream",
     "text": [
      "Building Vocab\n",
      "VOCAB SIZE: 73\n",
      "Vocab build done! \n"
     ]
    }
   ],
   "source": [
    "inchi_vocab_path = 'data/inchi_vocab1.pkl'\n",
    "inchi_corpus_path = 'data/inchi_corpus1.txt'\n",
    "BuildVocab.built_vocab(inchi_corpus_path,inchi_vocab_path)"
   ]
  },
  {
   "cell_type": "code",
   "execution_count": 72,
   "metadata": {},
   "outputs": [
    {
     "name": "stdout",
     "output_type": "stream",
     "text": [
      "Building Vocab\n",
      "VOCAB SIZE: 646\n",
      "Vocab build done! \n"
     ]
    }
   ],
   "source": [
    "\n",
    "pubfp_vocab_path = 'data/pubfp_vocab1.pkl'\n",
    "pubfp_corpus_path = 'data/pubchemfp_corpus1.txt'\n",
    "BuildVocab.built_vocab(pubfp_corpus_path,pubfp_vocab_path)"
   ]
  }
 ],
 "metadata": {
  "interpreter": {
   "hash": "6e4f82a4a9a4ffcbda112757cab709a84353494b78f1f6692c9c348cffce14ae"
  },
  "kernelspec": {
   "display_name": "Python 3.8.12 ('pytorch-rdkit')",
   "language": "python",
   "name": "python3"
  },
  "language_info": {
   "codemirror_mode": {
    "name": "ipython",
    "version": 3
   },
   "file_extension": ".py",
   "mimetype": "text/x-python",
   "name": "python",
   "nbconvert_exporter": "python",
   "pygments_lexer": "ipython3",
   "version": "3.8.12"
  },
  "orig_nbformat": 4
 },
 "nbformat": 4,
 "nbformat_minor": 2
}
